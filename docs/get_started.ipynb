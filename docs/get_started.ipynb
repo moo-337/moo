{
  "cells": [
    {
      "cell_type": "code",
      "source": [
        "import numpy as np\n",
        "import tensorflow as tf\n",
        "print(\"TF version =\", tf.__version__)"
      ],
      "metadata": {
        "colab": {
          "base_uri": "https://localhost:8080/"
        },
        "id": "7S1tz4RUMVbn",
        "outputId": "0156aa0b-705b-457d-8fe8-c5acdd953663"
      },
      "execution_count": 1,
      "outputs": [
        {
          "output_type": "stream",
          "name": "stdout",
          "text": [
            "TF version = 2.9.2\n"
          ]
        }
      ]
    },
    {
      "cell_type": "code",
      "source": [
        "from tensorflow.keras.models import Sequential, Model\n",
        "from tensorflow.keras.layers import Input, Dense, Conv2D, Concatenate, Dropout, Subtract, Flatten, MaxPooling2D, Multiply, Lambda, Add, Dot\n",
        "\n",
        "from tensorflow.keras import initializers\n",
        "import tensorflow.keras.backend as K\n",
        "\n",
        "import matplotlib.pyplot as plt\n",
        "import scipy.stats as stats"
      ],
      "metadata": {
        "id": "G-lv0fDdMhYt"
      },
      "execution_count": 7,
      "outputs": []
    },
    {
      "cell_type": "code",
      "source": [
        "N = 252\n",
        "S0 = 1\n",
        "T = 1\n",
        "strike = 0.8\n",
        "sigma = 0.4\n",
        "coupon = 0.12"
      ],
      "metadata": {
        "id": "g1fdNHGwM7Kg"
      },
      "execution_count": 10,
      "outputs": []
    },
    {
      "cell_type": "code",
      "source": [
        "def payoff(x, strike, coupon):\n",
        "    if len(x[0]) > 1:\n",
        "        x = K.min(x, axis=1)\n",
        "    b = K.greater_equal(x, strike)\n",
        "    b = K.cast(b, \"float32\")\n",
        "    return (1+coupon)*b + x*(1-b)\n",
        "\n",
        "x = np.linspace(0.1, 1.5, 50).reshape((-1,1))\n",
        "\n",
        "plt.plot(x, payoff(x, strike, coupon))"
      ],
      "metadata": {
        "colab": {
          "base_uri": "https://localhost:8080/",
          "height": 285
        },
        "id": "vW7IFgDnN8lv",
        "outputId": "516d9056-fcf8-4f62-ad01-064aef96e15f"
      },
      "execution_count": 5,
      "outputs": [
        {
          "output_type": "execute_result",
          "data": {
            "text/plain": [
              "[<matplotlib.lines.Line2D at 0x7f7ee2fa9c40>]"
            ]
          },
          "metadata": {},
          "execution_count": 5
        },
        {
          "output_type": "display_data",
          "data": {
            "text/plain": [
              "<Figure size 432x288 with 1 Axes>"
            ],
            "image/png": "[encoded data removed]"
          },
          "metadata": {
            "needs_background": "light"
          }
        }
      ]
    },
    {
      "cell_type": "code",
      "source": [
        "def cash_or_nothing_C(S, K, T, sigma):\n",
        "    return stats.norm.cdf((np.log(S/K)+(-0.5*sigma**2)*T)/(sigma*np.sqrt(T)), 0, 1)\n",
        "\n",
        "def asset_or_nothing_P(S, K, T, sigma):\n",
        "    return S*stats.norm.cdf(-(np.log(S/K)+(0.5*sigma**2)*T)/(sigma*np.sqrt(T)), 0, 1)\n",
        "\n",
        "for i in range(N):\n",
        "    plt.plot(x, (1+coupon)*cash_or_nothing_C(x, strike, T/(i+1), sigma) + asset_or_nothing_P(x, strike, T/(i+1), sigma))"
      ],
      "metadata": {
        "colab": {
          "base_uri": "https://localhost:8080/",
          "height": 265
        },
        "id": "8CQG8coYOxnM",
        "outputId": "69946266-0dac-44a3-9641-c528e2bc2cd4"
      },
      "execution_count": 14,
      "outputs": [
        {
          "output_type": "display_data",
          "data": {
            "text/plain": [
              "<Figure size 432x288 with 1 Axes>"
            ],
            "image/png": "[encoded data removed]"
          },
          "metadata": {
            "needs_background": "light"
          }
        }
      ]
    },
    {
      "cell_type": "code",
      "source": [
        "u = 1\n",
        "m = 1\n",
        "d = 3\n",
        "n = 32\n",
        "\n",
        "layers = []\n",
        "for j in range(N):\n",
        "    for i in range(d):\n",
        "        if i < d-1:\n",
        "            nodes = n\n",
        "            layer = Dense(nodes, activation='tanh', trainable=True,\n",
        "                          kernel_initializer=initializers.RandomNormal(0,1),\n",
        "                          bias_initializer='random_normal',\n",
        "                          name=str(i)+str(j))\n",
        "        else:\n",
        "            nodes = m\n",
        "            layer = Dense(nodes, activation='linear', trainable=True,\n",
        "                          kernel_initializer=initializers.RandomNormal(0,0.1),\n",
        "                          bias_initializer='random_normal',\n",
        "                          name=str(i)+str(j))\n",
        "        layers = layers + [layer]\n",
        "\n",
        "\n",
        "price = Input(shape=(u,))\n",
        "hedge = Input(shape=(u,))\n",
        "hedgeeval = Input(shape=(u,))\n",
        "premium = Input(shape=(m,))\n",
        "\n",
        "inputs = [price]+[hedge]+[hedgeeval]+[premium]\n",
        "outputhelper = []\n",
        "\n",
        "premium = Dense(m, activation='linear', trainable=True,\n",
        "                kernel_initializer=initializers.RandomNormal(0,0.1),\n",
        "                          bias_initializer=initializers.RandomNormal(0,0.1))(premium)\n",
        "\n",
        "for j in range(N):\n",
        "    strategy = price\n",
        "    strategyeval = hedgeeval\n",
        "    for k in range(d):\n",
        "        strategy = layers[k+(j)*d](strategy)\n",
        "        strategyeval = layers[k+(j)*d](strategyeval)\n",
        "    incr = Input(shape=(u,))\n",
        "    logprice = "
      ],
      "metadata": {
        "id": "BtzzENKnw42g"
      },
      "execution_count": null,
      "outputs": []
    }
  ],
  "metadata": {
    "colab": {
      "name": "get_started.ipynb",
      "toc_visible": true,
      "provenance": []
    },
    "kernelspec": {
      "display_name": "Python 3",
      "name": "python3"
    }
  },
  "nbformat": 4,
  "nbformat_minor": 0
}