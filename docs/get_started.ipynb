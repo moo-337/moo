{
  "cells": [
    {
      "cell_type": "markdown",
      "source": [
        "<a href=\"https://colab.research.google.com/github/moo-337/moo/blob/master/docs/get_started.ipynb\" target=\"_parent\"><img src=\"https://colab.research.google.com/assets/colab-badge.svg\" alt=\"Open In Colab\"/></a>\n"
      ],
      "metadata": {
        "id": "F6CynlLzJboi"
      }
    },
    {
      "cell_type": "code",
      "source": [
        "import ipywidgets as widgets # Loads the Widget framework.\n",
        "from IPython.core.magics.namespace import NamespaceMagics # Used to query namespace.\n",
        "\n",
        "# For this example, hide these names, just to avoid polluting the namespace further\n",
        "get_ipython().user_ns_hidden['widgets'] = widgets\n",
        "get_ipython().user_ns_hidden['NamespaceMagics'] = NamespaceMagics\n",
        "\n",
        "class VariableInspectorWindow(object):\n",
        "    instance = None\n",
        "    \n",
        "    def __init__(self, ipython):\n",
        "        \"\"\"Public constructor.\"\"\"\n",
        "        if VariableInspectorWindow.instance is not None:\n",
        "            raise Exception(\"\"\"Only one instance of the Variable Inspector can exist at a \n",
        "                time.  Call close() on the active instance before creating a new instance.\n",
        "                If you have lost the handle to the active instance, you can re-obtain it\n",
        "                via `VariableInspectorWindow.instance`.\"\"\")\n",
        "        \n",
        "        VariableInspectorWindow.instance = self\n",
        "        self.closed = False\n",
        "        self.namespace = NamespaceMagics()\n",
        "        self.namespace.shell = ipython.kernel.shell\n",
        "        \n",
        "        self._box = widgets.Box()\n",
        "        self._box.layout.overflow_y = 'scroll'\n",
        "        self._table = widgets.HTML(value = 'Not hooked')\n",
        "        self._box.children = [self._table]\n",
        "        \n",
        "        self._ipython = ipython\n",
        "        self._ipython.events.register('post_run_cell', self._fill)\n",
        "        \n",
        "    def close(self):\n",
        "        \"\"\"Close and remove hooks.\"\"\"\n",
        "        if not self.closed:\n",
        "            self._ipython.events.unregister('post_run_cell', self._fill)\n",
        "            self._box.close()\n",
        "            self.closed = True\n",
        "            VariableInspectorWindow.instance = None\n",
        "\n",
        "    def _fill(self, _result):\n",
        "        \"\"\"Fill self with variable information.\"\"\"\n",
        "        values = self.namespace.who_ls()\n",
        "        self._table.value = '<div class=\"rendered_html jp-RenderedHTMLCommon\"><table><thead><tr><th>Name</th><th>Type</th><th>Value</th></tr></thead><tr><td>' + \\\n",
        "            '</td></tr><tr><td>'.join(['{0}</td><td>{1}</td><td>{2}'.format(v, type(eval(v)).__name__, str(eval(v))) for v in values]) + \\\n",
        "            '</td></tr></table></div>'\n",
        "\n",
        "    def _ipython_display_(self):\n",
        "        \"\"\"Called when display() or pyout is used to display the Variable \n",
        "        Inspector.\"\"\"\n",
        "        self._box._ipython_display_()\n",
        "\n",
        "inspector = VariableInspectorWindow(get_ipython())\n",
        "inspector"
      ],
      "metadata": {
        "id": "C8toAJwEN9vv",
        "outputId": "7e35452a-798c-43a6-988c-19c4e4185b5c",
        "colab": {
          "base_uri": "https://localhost:8080/",
          "height": 115,
          "referenced_widgets": [
            "167701c75afb421785dfc3fe0b1947cb",
            "2e00d60ca7e148e8a62cc7569faa2609",
            "f782f8bcba4941f5b466c2463c700cb1",
            "deb74702b9484f659b50696947a78c21",
            "bb27f4b938384581a848c65ef49ed144"
          ]
        }
      },
      "execution_count": 1,
      "outputs": [
        {
          "output_type": "display_data",
          "data": {
            "text/plain": [
              "Box(children=(HTML(value='Not hooked'),), layout=Layout(overflow_y='scroll'))"
            ],
            "application/vnd.jupyter.widget-view+json": {
              "version_major": 2,
              "version_minor": 0,
              "model_id": "167701c75afb421785dfc3fe0b1947cb"
            }
          },
          "metadata": {}
        }
      ]
    },
    {
      "cell_type": "code",
      "source": [
        "import numpy as np\n",
        "import tensorflow as tf\n",
        "print(\"TF version =\", tf.__version__)"
      ],
      "metadata": {
        "id": "Tdpkoa6kJLAD",
        "outputId": "548bad51-fee8-4150-d944-0530896be4c2",
        "colab": {
          "base_uri": "https://localhost:8080/"
        }
      },
      "execution_count": 2,
      "outputs": [
        {
          "metadata": {
            "tags": null
          },
          "name": "stdout",
          "output_type": "stream",
          "text": [
            "TF version = 2.9.2\n"
          ]
        }
      ]
    },
    {
      "cell_type": "code",
      "source": [
        "from tensorflow.keras.models import Sequential, Model\n",
        "from tensorflow.keras.layers import Input, Dense, Conv2D, Concatenate, Dropout, Subtract, Flatten, MaxPooling2D, Multiply, Lambda, Add, Dot\n",
        "\n",
        "from tensorflow.keras import initializers\n",
        "import tensorflow.keras.backend as K\n",
        "\n",
        "import matplotlib.pyplot as plt\n",
        "import scipy.stats as stats"
      ],
      "metadata": {
        "id": "mkROaTmYJpEh"
      },
      "execution_count": 3,
      "outputs": []
    },
    {
      "cell_type": "code",
      "source": [
        "global strike, sigma, coupon, oh_value \n",
        "\n",
        "N = 100 # of timestep\n",
        "S0 = 1 # initial underlying price\n",
        "T = 3 # time to maturity\n",
        "strike = 0.8\n",
        "sigma = 0.2\n",
        "coupon = 0.12\n",
        "oh_value = 8\n"
      ],
      "metadata": {
        "id": "55omJDX2JsQm"
      },
      "execution_count": 4,
      "outputs": []
    },
    {
      "cell_type": "code",
      "source": [
        "# over-hedged payoff function \n",
        "\n",
        "def payoff_f(x):\n",
        "    # if len(x[0]) > 1:\n",
        "    #     x = K.min(x, axis=1)\n",
        "    b = K.greater_equal(x, strike)\n",
        "    b = K.cast(b, \"float32\")\n",
        "    strike_oh = (1 + coupon - oh_value*strike)/(1-oh_value)\n",
        "    b_oh = K.greater_equal(x, strike_oh)\n",
        "    b_oh = K.cast(b_oh, 'float32')\n",
        "    c = (1-b_oh)\n",
        "    b_oh -= b\n",
        "\n",
        "    return (1+coupon)*b + x*c + ((x - strike_oh) * oh_value + strike_oh)*b_oh\n",
        "\n",
        "x = np.linspace(0.1, 1.5, 100).reshape((-1,1))\n",
        "\n",
        "plt.plot(x, payoff_f(x))"
      ],
      "metadata": {
        "id": "BPgBaiBBJsnm",
        "outputId": "19a5f9bf-0c11-43e3-bc07-b99f09396ca4",
        "colab": {
          "base_uri": "https://localhost:8080/",
          "height": 285
        }
      },
      "execution_count": 5,
      "outputs": [
        {
          "data": {
            "text/plain": [
              "[<matplotlib.lines.Line2D at 0x7fb72e54c820>]"
            ]
          },
          "execution_count": 5,
          "metadata": {},
          "output_type": "execute_result"
        },
        {
          "data": {
            "image/png": "[encoded data removed]",
            "text/plain": [
              "<Figure size 432x288 with 1 Axes>"
            ]
          },
          "metadata": {},
          "output_type": "display_data"
        }
      ]
    },
    {
      "cell_type": "code",
      "source": [
        "def cash_or_nothing_C(S, K, T, sigma):\n",
        "    return stats.norm.cdf((np.log(S/K)+(-0.5*sigma**2)*T)/(sigma*np.sqrt(T)), 0, 1)\n",
        "\n",
        "def asset_or_nothing_P(S, K, T, sigma):\n",
        "    return S*stats.norm.cdf(-(np.log(S/K)+(0.5*sigma**2)*T)/(sigma*np.sqrt(T)), 0, 1)\n",
        "\n",
        "def conC_delta(S, K, T, sigma):\n",
        "    return stats.norm.pdf((np.log(S/K)+(-0.5*sigma**2)*T)/(sigma*np.sqrt(T)), 0, 1) / (sigma*np.sqrt(T)*S)\n",
        "\n",
        "def aonP_delta(S, K, T, sigma):\n",
        "    return stats.norm.cdf(-(np.log(S/K)+(0.5*sigma**2)*T)/(sigma*np.sqrt(T)), 0, 1) - stats.norm.pdf(-(np.log(S/K)+(0.5*sigma**2)*T)/(sigma*np.sqrt(T)), 0, 1) / (sigma*np.sqrt(T))\n",
        "\n",
        "def BS_closedform(S, T):\n",
        "    return (1+coupon)*cash_or_nothing_C(S, strike, T, sigma) + asset_or_nothing_P(S, strike, T, sigma)\n",
        "\n",
        "def BS_delta(S, T):\n",
        "    return (1+coupon)*conC_delta(S, strike, T, sigma) + aonP_delta(S, strike, T, sigma)\n",
        "\n",
        "for i in range(N):\n",
        "    plt.plot(x, BS_closedform(x, T/(i+1)))"
      ],
      "metadata": {
        "id": "Zy9RpAbIJuYW",
        "outputId": "757146b8-1a9f-4b1d-b85b-c234c0034b78",
        "colab": {
          "base_uri": "https://localhost:8080/",
          "height": 265
        }
      },
      "execution_count": 6,
      "outputs": [
        {
          "data": {
            "image/png": "[encoded data removed]",
            "text/plain": [
              "<Figure size 432x288 with 1 Axes>"
            ]
          },
          "metadata": {},
          "output_type": "display_data"
        }
      ]
    },
    {
      "cell_type": "code",
      "source": [
        "for i in range(N):\n",
        "    plt.plot(x, BS_delta(x, T/(i+1)))"
      ],
      "metadata": {
        "colab": {
          "base_uri": "https://localhost:8080/",
          "height": 265
        },
        "id": "M2XpQ9l-AMSh",
        "outputId": "5d32538b-b6fa-4a7f-baee-06286c6b785b"
      },
      "execution_count": 7,
      "outputs": [
        {
          "output_type": "display_data",
          "data": {
            "text/plain": [
              "<Figure size 432x288 with 1 Axes>"
            ],
            "image/png": "[encoded data removed]"
          },
          "metadata": {
            "needs_background": "light"
          }
        }
      ]
    },
    {
      "cell_type": "code",
      "source": [
        "u = 1\n",
        "m = 1\n",
        "d = 3\n",
        "n = 32\n",
        "\n",
        "layers = []\n",
        "for j in range(N):\n",
        "    for i in range(d):\n",
        "        if i < d-1:\n",
        "            nodes = n\n",
        "            layer = Dense(nodes, activation='tanh', trainable=True,\n",
        "                          kernel_initializer=initializers.RandomNormal(0,1),\n",
        "                          bias_initializer='random_normal',\n",
        "                          name=str(i)+str(j))\n",
        "        else:\n",
        "            nodes = m\n",
        "            layer = Dense(nodes, activation='linear', trainable=True,\n",
        "                          kernel_initializer=initializers.RandomNormal(0,0.1),\n",
        "                          bias_initializer='random_normal',\n",
        "                          name=str(i)+str(j))\n",
        "        layers = layers + [layer]\n",
        "\n",
        "\n",
        "price = Input(shape=(u,))\n",
        "hedge = Input(shape=(u,))\n",
        "hedgeeval = Input(shape=(u,))\n",
        "premium = Input(shape=(m,))\n",
        "\n",
        "inputs = [price]+[hedge]+[hedgeeval]+[premium]\n",
        "outputhelper = []\n",
        "\n",
        "premium = Dense(m, activation='linear', trainable=True,\n",
        "                kernel_initializer=initializers.RandomNormal(0,0.1),\n",
        "                          bias_initializer=initializers.RandomNormal(0,0.1))(premium)\n",
        "\n",
        "for j in range(N):\n",
        "    strategy = price\n",
        "    strategyeval = hedgeeval\n",
        "    for k in range(d):\n",
        "        strategy = layers[k+(j)*d](strategy)\n",
        "        strategyeval = layers[k+(j)*d](strategyeval)\n",
        "    \n",
        "    incr = Input(shape=(u,))\n",
        "    logprice = Lambda(lambda x : K.log(x))(price)\n",
        "    logprice = Add()([logprice, incr])\n",
        "\n",
        "    pricenew = Lambda(lambda x : K.exp(x))(logprice)\n",
        "    priceincr = Subtract()([pricenew, price])\n",
        "    hedgenew = Multiply()([strategy, priceincr])\n",
        "    hedge = Add()([hedge, hedgenew])\n",
        "    inputs = inputs + [incr]\n",
        "    outputhelper = outputhelper + [strategyeval]\n",
        "    price = pricenew"
      ],
      "metadata": {
        "id": "RSFeBM0YJwTW"
      },
      "execution_count": null,
      "outputs": []
    },
    {
      "cell_type": "code",
      "source": [
        "payoff = Lambda(payoff_f)(price)\n",
        "outputs = Subtract()([payoff, hedge])\n",
        "outputs = Subtract()([outputs, premium])\n",
        "outputs = [outputs] + outputhelper + [premium]\n",
        "outputs = Concatenate()(outputs)\n",
        "\n",
        "model_hedge_strat = Model(inputs=inputs, outputs=outputs)"
      ],
      "metadata": {
        "id": "0oBb4Y2to65n"
      },
      "execution_count": null,
      "outputs": []
    },
    {
      "cell_type": "code",
      "source": [
        "gamma = 1.0\n",
        "grid = [(i/N)**gamma*T for i in range(N+1)]\n",
        "\n",
        "Ktrain = 10**5\n",
        "initialprice = S0\n",
        "priceBS = (1+coupon)*cash_or_nothing_C(initialprice, strike, T, sigma) + asset_or_nothing_P(initialprice, strike, T, sigma)\n",
        "print(priceBS)\n",
        "face = 1\n",
        "\n",
        "xtrain = ([initialprice*np.ones((Ktrain, u))] + \n",
        "          [np.zeros((Ktrain, m))] +\n",
        "          [np.ones((Ktrain, m))] +\n",
        "          [priceBS*np.ones((Ktrain, m))] + \n",
        "          [np.random.normal(-(sigma)**2/2*(grid[i+1]-grid[i]), sigma*np.sqrt(grid[i+1]-grid[i]), (Ktrain, u)) for i in range(N)])\n",
        "\n",
        "ytrain = np.zeros((Ktrain, 1+N))"
      ],
      "metadata": {
        "id": "9wBmXlslKSYO"
      },
      "execution_count": null,
      "outputs": []
    },
    {
      "cell_type": "code",
      "source": [
        "def loss_mse(y_true, y_pred):\n",
        "    return K.mean(K.square(y_pred[:, 0]-y_true[:,0]))\n",
        "\n",
        "model_hedge_strat.compile(optimizer='adam', loss=loss_mse)\n",
        "\n",
        "for i in range(50):\n",
        "    model_hedge_strat.fit(x=xtrain, y=ytrain, epochs=1, verbose=True, batch_size=1000)"
      ],
      "metadata": {
        "id": "zuesBzYrQYqB"
      },
      "execution_count": null,
      "outputs": []
    },
    {
      "cell_type": "code",
      "source": [
        "logincrements = xtrain[4:4+N]\n",
        "hedge_bs = np.zeros(Ktrain)\n",
        "price_train = S0*np.ones((Ktrain, N))\n",
        "\n",
        "for k in range(N-1):\n",
        "    helper = logincrements[k][:,]\n",
        "    helper = helper.transpose()\n",
        "    price_train[:, k+1] = price_train[:, k]*np.exp(helper)\n",
        "    hedge_bs = hedge_bs + ((1+coupon)*conC_delta(price_train[:,k], strike, T-grid[k+1], sigma) + aonP_delta(price_train[:,k], strike, T-grid[k+1], sigma)) * (price_train[:, k+1] - price_train[:, k])\n",
        "\n",
        "hedge_bs = hedge_bs - payoff_f(price_train[:, N-1]) + face"
      ],
      "metadata": {
        "id": "LNs2SQ4V80VB"
      },
      "execution_count": null,
      "outputs": []
    },
    {
      "cell_type": "code",
      "source": [
        "plt.hist(hedge_bs)\n",
        "plt.show()\n",
        "print(np.std(hedge_bs), np.mean(hedge_bs))\n",
        "print(np.max(hedge_bs), np.min(hedge_bs))"
      ],
      "metadata": {
        "id": "l4QfNrMPBCeA"
      },
      "execution_count": null,
      "outputs": []
    },
    {
      "cell_type": "code",
      "source": [
        "plt.hist(payoff_f(price_train[:, N-1]))"
      ],
      "metadata": {
        "id": "RiPseVirNIQW"
      },
      "execution_count": null,
      "outputs": []
    },
    {
      "cell_type": "code",
      "source": [
        "Ktest=500\n",
        "\n",
        "testpath=[]\n",
        "\n",
        "for i in range(N):\n",
        "    testpath.append(np.random.normal(-(sigma)**2/2*(grid[i+1]-grid[i]), sigma*np.sqrt(grid[i+1]-grid[i]), (Ktest, u)))\n",
        "\n",
        "logincrements = testpath\n",
        "hedge_bs = np.zeros((Ktest, N+1))\n",
        "price_test = S0*np.ones((Ktest, N+1))\n",
        "delta_bs = np.zeros((Ktest, N+1))\n",
        "delta_bs[:, 0] += BS_delta(price_test[:,0], T-grid[0])\n",
        "# hedge_bs[:, 0] += face - delta_bs[:, 0] * price_test[:, 0]\n",
        "for k in range(N):\n",
        "    helper = logincrements[k].reshape((-1,))\n",
        "    delta_bs[:, k+1] += BS_delta(price_test[:,k], T-grid[k+1])\n",
        "    price_test[:, k+1] = price_test[:, k]*np.exp(helper)\n",
        "    hedge_bs[:, k+1] = hedge_bs[:, k] + delta_bs[:, k+1] * (price_test[:, k+1] - price_test[:, k])\n",
        "\n",
        "hedge_bs[:, -1] = hedge_bs[:, -2] - payoff_f(price_test[:, -1]) + face"
      ],
      "metadata": {
        "id": "Z33WRtPtBLFG"
      },
      "execution_count": null,
      "outputs": []
    },
    {
      "cell_type": "code",
      "source": [
        "for i in range(Ktest):\n",
        "    plt.plot(grid[:], price_test[i])"
      ],
      "metadata": {
        "id": "htUmHah8Dwh9"
      },
      "execution_count": null,
      "outputs": []
    },
    {
      "cell_type": "code",
      "source": [
        "for i in range(Ktest):\n",
        "    plt.plot(grid[:], delta_bs[i])\n"
      ],
      "metadata": {
        "id": "vZJ1G3HXlhvr"
      },
      "execution_count": null,
      "outputs": []
    },
    {
      "cell_type": "code",
      "source": [
        "for i in range(Ktest):\n",
        "    plt.plot(grid, hedge_bs[i])"
      ],
      "metadata": {
        "id": "EQS3iPr7EJWX"
      },
      "execution_count": null,
      "outputs": []
    },
    {
      "cell_type": "code",
      "source": [
        "plt.hist(hedge_bs[:,-1])\n",
        "plt.show()\n",
        "print(np.std(hedge_bs[:, -1]), np.mean(hedge_bs[:, -1]))\n",
        "print(np.max(hedge_bs[:, -1]), np.min(hedge_bs[:, -1]))"
      ],
      "metadata": {
        "id": "kquLHKo4EYc1"
      },
      "execution_count": null,
      "outputs": []
    },
    {
      "cell_type": "code",
      "source": [
        "xtest = ([initialprice*np.ones((Ktest, u))] + \n",
        "         [np.zeros((Ktest, m))] + \n",
        "         [np.linspace(0.1, 1.5, Ktest)] +\n",
        "         [priceBS*np.ones((Ktest, m))] + \n",
        "         [testpath[i] for i in range(N)])\n",
        "\n",
        "y = model_hedge_strat.predict(xtest)\n",
        "\n",
        "\n",
        "model_hedge = y[:, 0]\n",
        "model_premium = y[:, -1]\n",
        "fig1, ax1 = plt.subplots(1, 1, squeeze=False)\n",
        "\n",
        "for k in range(Ktest):\n",
        "    ax1[0,0].plot(grid[1:], y[k][1:-1])\n",
        "    "
      ],
      "metadata": {
        "id": "glCpU9M-EjRk"
      },
      "execution_count": null,
      "outputs": []
    },
    {
      "cell_type": "code",
      "source": [
        "plt.hist(model_hedge)\n",
        "plt.show()\n",
        "print(np.std(model_hedge), np.mean(model_hedge))\n",
        "print(np.max(model_hedge), np.min(model_hedge))"
      ],
      "metadata": {
        "id": "DGhwGvbNbc7D"
      },
      "execution_count": null,
      "outputs": []
    },
    {
      "cell_type": "code",
      "source": [
        "s = np.linspace(0.1, 1.5, Ktest)\n",
        "\n",
        "for i in range(N):\n",
        "    plt.plot(s, y[:, i+1])\n",
        "    "
      ],
      "metadata": {
        "id": "kamXMNSaFWax"
      },
      "execution_count": null,
      "outputs": []
    },
    {
      "cell_type": "code",
      "source": [
        "for i in range(N):\n",
        "    BSdelta = BS_delta(s, T/(i+1))\n",
        "    plt.plot(s, BSdelta)"
      ],
      "metadata": {
        "id": "vHjvagpqcnBU"
      },
      "execution_count": null,
      "outputs": []
    },
    {
      "cell_type": "code",
      "source": [
        "def model_delta(model, s):\n",
        "    n = len(s)\n",
        "    x = ([initialprice*np.ones((n, u))] + \n",
        "         [np.zeros((n, m))] + \n",
        "         [s] +\n",
        "         [priceBS*np.ones((n, m))] + \n",
        "         [np.ones((n, u)) for i in range(N)])\n",
        "    out = model.predict(x)\n",
        "    return out\n",
        "\n",
        "hedge_model = np.zeros((Ktest, N+1))\n",
        "price_test = S0*np.ones((Ktest, N))\n",
        "\n",
        "for k in range(N-1):\n",
        "    helper = logincrements[k].reshape((-1,))\n",
        "    price_test[:, k+1] = price_test[:, k]*np.exp(helper)\n",
        "    modelta = model_delta(model_hedge_strat, price_test[:, k])\n",
        "    hedge_model[:, k+1] = hedge_model[:, k] +  modelta[:, k+1] * (price_test[:, k+1] - price_test[:, k])\n",
        "\n",
        "hedge_model[:, -1] = hedge_model[:, -2] - payoff_f(price_test[:, N-1]) + face"
      ],
      "metadata": {
        "id": "ak1ev5CILjZ0"
      },
      "execution_count": null,
      "outputs": []
    },
    {
      "cell_type": "code",
      "source": [
        "for i in range(Ktest):\n",
        "    plt.plot(grid, hedge_model[i])"
      ],
      "metadata": {
        "id": "L7UTLLBmLmbl"
      },
      "execution_count": null,
      "outputs": []
    },
    {
      "cell_type": "code",
      "source": [
        "plt.hist(hedge_model[:, -1])\n",
        "plt.show()\n",
        "print(np.std(hedge_model[:, -1]), np.mean(hedge_model[:, -1]))\n",
        "print(np.max(hedge_model[:, -1]), np.min(hedge_model[:, -1]))"
      ],
      "metadata": {
        "id": "0y4zRQV1MKqf"
      },
      "execution_count": null,
      "outputs": []
    },
    {
      "cell_type": "code",
      "source": [],
      "metadata": {
        "id": "RpDdx_M-uQKP"
      },
      "execution_count": null,
      "outputs": []
    }
  ],
  "metadata": {
    "colab": {
      "name": "get_started.ipynb",
      "toc_visible": true,
      "provenance": []
    },
    "kernelspec": {
      "display_name": "Python 3",
      "name": "python3"
    },
    "widgets": {
      "application/vnd.jupyter.widget-state+json": {
        "167701c75afb421785dfc3fe0b1947cb": {
          "model_module": "@jupyter-widgets/controls",
          "model_name": "BoxModel",
          "model_module_version": "1.5.0",
          "state": {
            "_dom_classes": [],
            "_model_module": "@jupyter-widgets/controls",
            "_model_module_version": "1.5.0",
            "_model_name": "BoxModel",
            "_view_count": null,
            "_view_module": "@jupyter-widgets/controls",
            "_view_module_version": "1.5.0",
            "_view_name": "BoxView",
            "box_style": "",
            "children": [
              "IPY_MODEL_2e00d60ca7e148e8a62cc7569faa2609"
            ],
            "layout": "IPY_MODEL_f782f8bcba4941f5b466c2463c700cb1"
          }
        },
        "2e00d60ca7e148e8a62cc7569faa2609": {
          "model_module": "@jupyter-widgets/controls",
          "model_name": "HTMLModel",
          "model_module_version": "1.5.0",
          "state": {
            "_dom_classes": [],
            "_model_module": "@jupyter-widgets/controls",
            "_model_module_version": "1.5.0",
            "_model_name": "HTMLModel",
            "_view_count": null,
            "_view_module": "@jupyter-widgets/controls",
            "_view_module_version": "1.5.0",
            "_view_name": "HTMLView",
            "description": "",
            "description_tooltip": null,
            "layout": "IPY_MODEL_deb74702b9484f659b50696947a78c21",
            "placeholder": "​",
            "style": "IPY_MODEL_bb27f4b938384581a848c65ef49ed144",
            "value": "<div class=\"rendered_html jp-RenderedHTMLCommon\"><table><thead><tr><th>Name</th><th>Type</th><th>Value</th></tr></thead><tr><td>Add</td><td>type</td><td><class 'keras.layers.merging.add.Add'></td></tr><tr><td>BS_closedform</td><td>function</td><td><function BS_closedform at 0x7fb72e4c5c10></td></tr><tr><td>BS_delta</td><td>function</td><td><function BS_delta at 0x7fb72e4c5ca0></td></tr><tr><td>Concatenate</td><td>type</td><td><class 'keras.layers.merging.concatenate.Concatenate'></td></tr><tr><td>Conv2D</td><td>type</td><td><class 'keras.layers.convolutional.conv2d.Conv2D'></td></tr><tr><td>Dense</td><td>type</td><td><class 'keras.layers.core.dense.Dense'></td></tr><tr><td>Dot</td><td>type</td><td><class 'keras.layers.merging.dot.Dot'></td></tr><tr><td>Dropout</td><td>type</td><td><class 'keras.layers.regularization.dropout.Dropout'></td></tr><tr><td>Flatten</td><td>type</td><td><class 'keras.layers.reshaping.flatten.Flatten'></td></tr><tr><td>Input</td><td>function</td><td><function Input at 0x7fb73fc6b040></td></tr><tr><td>K</td><td>module</td><td><module 'tensorflow.keras.backend' from '/usr/local/lib/python3.8/dist-packages/keras/api/_v2/keras/backend/__init__.py'></td></tr><tr><td>Lambda</td><td>type</td><td><class 'keras.layers.core.lambda_layer.Lambda'></td></tr><tr><td>MaxPooling2D</td><td>type</td><td><class 'keras.layers.pooling.max_pooling2d.MaxPooling2D'></td></tr><tr><td>Model</td><td>type</td><td><class 'keras.engine.training.Model'></td></tr><tr><td>Multiply</td><td>type</td><td><class 'keras.layers.merging.multiply.Multiply'></td></tr><tr><td>N</td><td>int</td><td>100</td></tr><tr><td>S0</td><td>int</td><td>1</td></tr><tr><td>Sequential</td><td>type</td><td><class 'keras.engine.sequential.Sequential'></td></tr><tr><td>Subtract</td><td>type</td><td><class 'keras.layers.merging.subtract.Subtract'></td></tr><tr><td>T</td><td>int</td><td>3</td></tr><tr><td>VariableInspectorWindow</td><td>type</td><td><class '__main__.VariableInspectorWindow'></td></tr><tr><td>aonP_delta</td><td>function</td><td><function aonP_delta at 0x7fb72e4c5b80></td></tr><tr><td>asset_or_nothing_P</td><td>function</td><td><function asset_or_nothing_P at 0x7fb72e4c5820></td></tr><tr><td>cash_or_nothing_C</td><td>function</td><td><function cash_or_nothing_C at 0x7fb72e4c58b0></td></tr><tr><td>conC_delta</td><td>function</td><td><function conC_delta at 0x7fb72e4c5790></td></tr><tr><td>coupon</td><td>float</td><td>0.12</td></tr><tr><td>i</td><td>int</td><td>99</td></tr><tr><td>initializers</td><td>module</td><td><module 'keras.api._v2.keras.initializers' from '/usr/local/lib/python3.8/dist-packages/keras/api/_v2/keras/initializers/__init__.py'></td></tr><tr><td>inspector</td><td>VariableInspectorWindow</td><td><__main__.VariableInspectorWindow object at 0x7fb796ee6cd0></td></tr><tr><td>np</td><td>module</td><td><module 'numpy' from '/usr/local/lib/python3.8/dist-packages/numpy/__init__.py'></td></tr><tr><td>oh_value</td><td>int</td><td>8</td></tr><tr><td>payoff_f</td><td>function</td><td><function payoff_f at 0x7fb73224d1f0></td></tr><tr><td>plt</td><td>module</td><td><module 'matplotlib.pyplot' from '/usr/local/lib/python3.8/dist-packages/matplotlib/pyplot.py'></td></tr><tr><td>sigma</td><td>float</td><td>0.2</td></tr><tr><td>stats</td><td>module</td><td><module 'scipy.stats' from '/usr/local/lib/python3.8/dist-packages/scipy/stats/__init__.py'></td></tr><tr><td>strike</td><td>float</td><td>0.8</td></tr><tr><td>tf</td><td>module</td><td><module 'tensorflow' from '/usr/local/lib/python3.8/dist-packages/tensorflow/__init__.py'></td></tr><tr><td>x</td><td>ndarray</td><td>[[0.1       ]\n [0.11414141]\n [0.12828283]\n [0.14242424]\n [0.15656566]\n [0.17070707]\n [0.18484848]\n [0.1989899 ]\n [0.21313131]\n [0.22727273]\n [0.24141414]\n [0.25555556]\n [0.26969697]\n [0.28383838]\n [0.2979798 ]\n [0.31212121]\n [0.32626263]\n [0.34040404]\n [0.35454545]\n [0.36868687]\n [0.38282828]\n [0.3969697 ]\n [0.41111111]\n [0.42525253]\n [0.43939394]\n [0.45353535]\n [0.46767677]\n [0.48181818]\n [0.4959596 ]\n [0.51010101]\n [0.52424242]\n [0.53838384]\n [0.55252525]\n [0.56666667]\n [0.58080808]\n [0.59494949]\n [0.60909091]\n [0.62323232]\n [0.63737374]\n [0.65151515]\n [0.66565657]\n [0.67979798]\n [0.69393939]\n [0.70808081]\n [0.72222222]\n [0.73636364]\n [0.75050505]\n [0.76464646]\n [0.77878788]\n [0.79292929]\n [0.80707071]\n [0.82121212]\n [0.83535354]\n [0.84949495]\n [0.86363636]\n [0.87777778]\n [0.89191919]\n [0.90606061]\n [0.92020202]\n [0.93434343]\n [0.94848485]\n [0.96262626]\n [0.97676768]\n [0.99090909]\n [1.00505051]\n [1.01919192]\n [1.03333333]\n [1.04747475]\n [1.06161616]\n [1.07575758]\n [1.08989899]\n [1.1040404 ]\n [1.11818182]\n [1.13232323]\n [1.14646465]\n [1.16060606]\n [1.17474747]\n [1.18888889]\n [1.2030303 ]\n [1.21717172]\n [1.23131313]\n [1.24545455]\n [1.25959596]\n [1.27373737]\n [1.28787879]\n [1.3020202 ]\n [1.31616162]\n [1.33030303]\n [1.34444444]\n [1.35858586]\n [1.37272727]\n [1.38686869]\n [1.4010101 ]\n [1.41515152]\n [1.42929293]\n [1.44343434]\n [1.45757576]\n [1.47171717]\n [1.48585859]\n [1.5       ]]</td></tr></table></div>"
          }
        },
        "f782f8bcba4941f5b466c2463c700cb1": {
          "model_module": "@jupyter-widgets/base",
          "model_name": "LayoutModel",
          "model_module_version": "1.2.0",
          "state": {
            "_model_module": "@jupyter-widgets/base",
            "_model_module_version": "1.2.0",
            "_model_name": "LayoutModel",
            "_view_count": null,
            "_view_module": "@jupyter-widgets/base",
            "_view_module_version": "1.2.0",
            "_view_name": "LayoutView",
            "align_content": null,
            "align_items": null,
            "align_self": null,
            "border": null,
            "bottom": null,
            "display": null,
            "flex": null,
            "flex_flow": null,
            "grid_area": null,
            "grid_auto_columns": null,
            "grid_auto_flow": null,
            "grid_auto_rows": null,
            "grid_column": null,
            "grid_gap": null,
            "grid_row": null,
            "grid_template_areas": null,
            "grid_template_columns": null,
            "grid_template_rows": null,
            "height": null,
            "justify_content": null,
            "justify_items": null,
            "left": null,
            "margin": null,
            "max_height": null,
            "max_width": null,
            "min_height": null,
            "min_width": null,
            "object_fit": null,
            "object_position": null,
            "order": null,
            "overflow": null,
            "overflow_x": null,
            "overflow_y": "scroll",
            "padding": null,
            "right": null,
            "top": null,
            "visibility": null,
            "width": null
          }
        },
        "deb74702b9484f659b50696947a78c21": {
          "model_module": "@jupyter-widgets/base",
          "model_name": "LayoutModel",
          "model_module_version": "1.2.0",
          "state": {
            "_model_module": "@jupyter-widgets/base",
            "_model_module_version": "1.2.0",
            "_model_name": "LayoutModel",
            "_view_count": null,
            "_view_module": "@jupyter-widgets/base",
            "_view_module_version": "1.2.0",
            "_view_name": "LayoutView",
            "align_content": null,
            "align_items": null,
            "align_self": null,
            "border": null,
            "bottom": null,
            "display": null,
            "flex": null,
            "flex_flow": null,
            "grid_area": null,
            "grid_auto_columns": null,
            "grid_auto_flow": null,
            "grid_auto_rows": null,
            "grid_column": null,
            "grid_gap": null,
            "grid_row": null,
            "grid_template_areas": null,
            "grid_template_columns": null,
            "grid_template_rows": null,
            "height": null,
            "justify_content": null,
            "justify_items": null,
            "left": null,
            "margin": null,
            "max_height": null,
            "max_width": null,
            "min_height": null,
            "min_width": null,
            "object_fit": null,
            "object_position": null,
            "order": null,
            "overflow": null,
            "overflow_x": null,
            "overflow_y": null,
            "padding": null,
            "right": null,
            "top": null,
            "visibility": null,
            "width": null
          }
        },
        "bb27f4b938384581a848c65ef49ed144": {
          "model_module": "@jupyter-widgets/controls",
          "model_name": "DescriptionStyleModel",
          "model_module_version": "1.5.0",
          "state": {
            "_model_module": "@jupyter-widgets/controls",
            "_model_module_version": "1.5.0",
            "_model_name": "DescriptionStyleModel",
            "_view_count": null,
            "_view_module": "@jupyter-widgets/base",
            "_view_module_version": "1.2.0",
            "_view_name": "StyleView",
            "description_width": ""
          }
        }
      }
    },
    "accelerator": "TPU",
    "gpuClass": "standard"
  },
  "nbformat": 4,
  "nbformat_minor": 0
}