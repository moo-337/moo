{
  "cells": [
    {
      "cell_type": "markdown",
      "source": [
        "<a href=\"https://colab.research.google.com/github/moo-337/moo/blob/master/docs/get_started.ipynb\" target=\"_parent\"><img src=\"https://colab.research.google.com/assets/colab-badge.svg\" alt=\"Open In Colab\"/></a>\n"
      ],
      "metadata": {
        "id": "F6CynlLzJboi"
      }
    },
    {
      "cell_type": "code",
      "source": [
        "import ipywidgets as widgets # Loads the Widget framework.\n",
        "from IPython.core.magics.namespace import NamespaceMagics # Used to query namespace.\n",
        "\n",
        "# For this example, hide these names, just to avoid polluting the namespace further\n",
        "get_ipython().user_ns_hidden['widgets'] = widgets\n",
        "get_ipython().user_ns_hidden['NamespaceMagics'] = NamespaceMagics\n",
        "\n",
        "class VariableInspectorWindow(object):\n",
        "    instance = None\n",
        "    \n",
        "    def __init__(self, ipython):\n",
        "        \"\"\"Public constructor.\"\"\"\n",
        "        if VariableInspectorWindow.instance is not None:\n",
        "            raise Exception(\"\"\"Only one instance of the Variable Inspector can exist at a \n",
        "                time.  Call close() on the active instance before creating a new instance.\n",
        "                If you have lost the handle to the active instance, you can re-obtain it\n",
        "                via `VariableInspectorWindow.instance`.\"\"\")\n",
        "        \n",
        "        VariableInspectorWindow.instance = self\n",
        "        self.closed = False\n",
        "        self.namespace = NamespaceMagics()\n",
        "        self.namespace.shell = ipython.kernel.shell\n",
        "        \n",
        "        self._box = widgets.Box()\n",
        "        self._box.layout.overflow_y = 'scroll'\n",
        "        self._table = widgets.HTML(value = 'Not hooked')\n",
        "        self._box.children = [self._table]\n",
        "        \n",
        "        self._ipython = ipython\n",
        "        self._ipython.events.register('post_run_cell', self._fill)\n",
        "        \n",
        "    def close(self):\n",
        "        \"\"\"Close and remove hooks.\"\"\"\n",
        "        if not self.closed:\n",
        "            self._ipython.events.unregister('post_run_cell', self._fill)\n",
        "            self._box.close()\n",
        "            self.closed = True\n",
        "            VariableInspectorWindow.instance = None\n",
        "\n",
        "    def _fill(self, _result):\n",
        "        \"\"\"Fill self with variable information.\"\"\"\n",
        "        values = self.namespace.who_ls()\n",
        "        self._table.value = '<div class=\"rendered_html jp-RenderedHTMLCommon\"><table><thead><tr><th>Name</th><th>Type</th><th>Value</th></tr></thead><tr><td>' + \\\n",
        "            '</td></tr><tr><td>'.join(['{0}</td><td>{1}</td><td>{2}'.format(v, type(eval(v)).__name__, str(eval(v))) for v in values]) + \\\n",
        "            '</td></tr></table></div>'\n",
        "\n",
        "    def _ipython_display_(self):\n",
        "        \"\"\"Called when display() or pyout is used to display the Variable \n",
        "        Inspector.\"\"\"\n",
        "        self._box._ipython_display_()\n",
        "\n",
        "inspector = VariableInspectorWindow(get_ipython())\n",
        "inspector"
      ],
      "metadata": {
        "id": "C8toAJwEN9vv"
      },
      "execution_count": null,
      "outputs": []
    },
    {
      "cell_type": "code",
      "source": [
        "import numpy as np\n",
        "import tensorflow as tf\n",
        "print(\"TF version =\", tf.__version__)"
      ],
      "metadata": {
        "id": "Tdpkoa6kJLAD"
      },
      "execution_count": null,
      "outputs": []
    },
    {
      "cell_type": "code",
      "source": [
        "from tensorflow.keras.models import Sequential, Model\n",
        "from tensorflow.keras.layers import Input, Dense, Conv2D, Concatenate, Dropout, Subtract, Flatten, MaxPooling2D, Multiply, Lambda, Add, Dot\n",
        "\n",
        "from tensorflow.keras import initializers\n",
        "import tensorflow.keras.backend as K\n",
        "\n",
        "import matplotlib.pyplot as plt\n",
        "import scipy.stats as stats"
      ],
      "metadata": {
        "id": "mkROaTmYJpEh"
      },
      "execution_count": null,
      "outputs": []
    },
    {
      "cell_type": "code",
      "source": [
        "global strike, sigma, coupon\n",
        "\n",
        "N = 100\n",
        "S0 = 1\n",
        "T = 1\n",
        "strike = 0.8\n",
        "sigma = 0.4\n",
        "coupon = 0.12\n",
        "strike_oh = (1 + coupon - 5*strike)/(1-5)"
      ],
      "metadata": {
        "id": "55omJDX2JsQm"
      },
      "execution_count": null,
      "outputs": []
    },
    {
      "cell_type": "code",
      "source": [
        "\n",
        "def payoff_f(x):\n",
        "    # if len(x[0]) > 1:\n",
        "    #     x = K.min(x, axis=1)\n",
        "    b = K.greater_equal(x, strike)\n",
        "    b = K.cast(b, \"float32\")\n",
        "    strike_oh = (1 + coupon - 5*strike)/(1-5)\n",
        "    b_oh = K.greater_equal(x, strike_oh)\n",
        "    b_oh = K.cast(b_oh, 'float32')\n",
        "    c = (1-b_oh)\n",
        "    b_oh -= b\n",
        "\n",
        "    return (1+coupon)*b + x*c + ((x - strike_oh) * 5 + strike_oh)*b_oh\n",
        "\n",
        "x = np.linspace(0.1, 1.5, 50).reshape((-1,1))\n",
        "\n",
        "plt.plot(x, payoff_f(x))"
      ],
      "metadata": {
        "id": "BPgBaiBBJsnm"
      },
      "execution_count": null,
      "outputs": []
    },
    {
      "cell_type": "code",
      "source": [
        "def cash_or_nothing_C(S, K, T, sigma):\n",
        "    return stats.norm.cdf((np.log(S/K)+(-0.5*sigma**2)*T)/(sigma*np.sqrt(T)), 0, 1)\n",
        "\n",
        "def asset_or_nothing_P(S, K, T, sigma):\n",
        "    return S*stats.norm.cdf(-(np.log(S/K)+(0.5*sigma**2)*T)/(sigma*np.sqrt(T)), 0, 1)\n",
        "\n",
        "def conC_delta(S, K, T, sigma):\n",
        "    return stats.norm.pdf((np.log(S/K)+(-0.5*sigma**2)*T)/(sigma*np.sqrt(T)), 0, 1) / (sigma*np.sqrt(T)*S)\n",
        "\n",
        "def aonP_delta(S, K, T, sigma):\n",
        "    return stats.norm.cdf(-(np.log(S/K)+(0.5*sigma**2)*T)/(sigma*np.sqrt(T)), 0, 1) - stats.norm.pdf(-(np.log(S/K)+(0.5*sigma**2)*T)/(sigma*np.sqrt(T)), 0, 1) / (sigma*np.sqrt(T))\n",
        "\n",
        "def BS_closedform(S, T):\n",
        "    return (1+coupon)*cash_or_nothing_C(S, strike, T, sigma) + asset_or_nothing_P(S, strike, T, sigma)\n",
        "\n",
        "def BS_delta(S, T):\n",
        "    return (1+coupon)*conC_delta(S, strike, T, sigma) + aonP_delta(S, strike, T, sigma)\n",
        "\n",
        "for i in range(N):\n",
        "    plt.plot(x, BS_closedform(x, T/(i+1)))"
      ],
      "metadata": {
        "id": "Zy9RpAbIJuYW"
      },
      "execution_count": null,
      "outputs": []
    },
    {
      "cell_type": "code",
      "source": [
        "for i in range(N):\n",
        "    plt.plot(x, BS_delta(x, T/(i+1)))"
      ],
      "metadata": {
        "id": "M2XpQ9l-AMSh"
      },
      "execution_count": null,
      "outputs": []
    },
    {
      "cell_type": "code",
      "source": [
        "u = 1\n",
        "m = 1\n",
        "d = 3\n",
        "n = 32\n",
        "\n",
        "layers = []\n",
        "for j in range(N):\n",
        "    for i in range(d):\n",
        "        if i < d-1:\n",
        "            nodes = n\n",
        "            layer = Dense(nodes, activation='tanh', trainable=True,\n",
        "                          kernel_initializer=initializers.RandomNormal(0,1),\n",
        "                          bias_initializer='random_normal',\n",
        "                          name=str(i)+str(j))\n",
        "        else:\n",
        "            nodes = m\n",
        "            layer = Dense(nodes, activation='linear', trainable=True,\n",
        "                          kernel_initializer=initializers.RandomNormal(0,0.1),\n",
        "                          bias_initializer='random_normal',\n",
        "                          name=str(i)+str(j))\n",
        "        layers = layers + [layer]\n",
        "\n",
        "\n",
        "price = Input(shape=(u,))\n",
        "hedge = Input(shape=(u,))\n",
        "hedgeeval = Input(shape=(u,))\n",
        "premium = Input(shape=(m,))\n",
        "\n",
        "inputs = [price]+[hedge]+[hedgeeval]+[premium]\n",
        "outputhelper = []\n",
        "\n",
        "premium = Dense(m, activation='linear', trainable=True,\n",
        "                kernel_initializer=initializers.RandomNormal(0,0.1),\n",
        "                          bias_initializer=initializers.RandomNormal(0,0.1))(premium)\n",
        "\n",
        "for j in range(N):\n",
        "    strategy = price\n",
        "    strategyeval = hedgeeval\n",
        "    for k in range(d):\n",
        "        strategy = layers[k+(j)*d](strategy)\n",
        "        strategyeval = layers[k+(j)*d](strategyeval)\n",
        "    \n",
        "    incr = Input(shape=(u,))\n",
        "    logprice = Lambda(lambda x : K.log(x))(price)\n",
        "    logprice = Add()([logprice, incr])\n",
        "\n",
        "    pricenew = Lambda(lambda x : K.exp(x))(logprice)\n",
        "    priceincr = Subtract()([pricenew, price])\n",
        "    hedgenew = Multiply()([strategy, priceincr])\n",
        "    hedge = Add()([hedge, hedgenew])\n",
        "    inputs = inputs + [incr]\n",
        "    outputhelper = outputhelper + [strategyeval]\n",
        "    price = pricenew"
      ],
      "metadata": {
        "id": "RSFeBM0YJwTW"
      },
      "execution_count": null,
      "outputs": []
    },
    {
      "cell_type": "code",
      "source": [
        "payoff = Lambda(payoff_f)(price)\n",
        "outputs = Subtract()([payoff, hedge])\n",
        "outputs = Subtract()([outputs, premium])\n",
        "outputs = [outputs] + outputhelper + [premium]\n",
        "outputs = Concatenate()(outputs)\n",
        "\n",
        "model_hedge_strat = Model(inputs=inputs, outputs=outputs)"
      ],
      "metadata": {
        "id": "0oBb4Y2to65n"
      },
      "execution_count": null,
      "outputs": []
    },
    {
      "cell_type": "code",
      "source": [
        "gamma = 1.0\n",
        "grid = [(i/N)**gamma*T for i in range(N+1)]\n",
        "\n",
        "Ktrain = 10**5\n",
        "initialprice = S0\n",
        "priceBS = (1+coupon)*cash_or_nothing_C(initialprice, strike, T, sigma) + asset_or_nothing_P(initialprice, strike, T, sigma)\n",
        "\n",
        "\n",
        "xtrain = ([initialprice*np.ones((Ktrain, u))] + \n",
        "          [np.zeros((Ktrain, m))] +\n",
        "          [np.ones((Ktrain, m))] +\n",
        "          [priceBS*np.ones((Ktrain, m))] + \n",
        "          [np.random.normal(-(sigma)**2/2*(grid[i+1]-grid[i]), sigma*np.sqrt(grid[i+1]-grid[i]), (Ktrain, u)) for i in range(N)])\n",
        "\n",
        "ytrain = np.zeros((Ktrain, 1+N))"
      ],
      "metadata": {
        "id": "9wBmXlslKSYO"
      },
      "execution_count": null,
      "outputs": []
    },
    {
      "cell_type": "code",
      "source": [
        "def loss_mse(y_true, y_pred):\n",
        "    return K.mean(K.square(y_pred[:, 0]-y_true[:,0]))\n",
        "\n",
        "model_hedge_strat.compile(optimizer='adam', loss=loss_mse)\n",
        "\n",
        "for i in range(50):\n",
        "    model_hedge_strat.fit(x=xtrain, y=ytrain, epochs=1, verbose=True, batch_size=1000)"
      ],
      "metadata": {
        "id": "zuesBzYrQYqB"
      },
      "execution_count": null,
      "outputs": []
    },
    {
      "cell_type": "code",
      "source": [
        "logincrements = xtrain[4:4+N]\n",
        "hedge = np.zeros(Ktrain)\n",
        "price_train = S0*np.ones((Ktrain, N))\n",
        "\n",
        "for k in range(N-1):\n",
        "    helper = logincrements[k][:,]\n",
        "    helper = helper.transpose()\n",
        "    price_train[:, k+1] = price_train[:, k]*np.exp(helper)\n",
        "    hedge = hedge + ((1+coupon)*conC_delta(price_train[:,k], strike, T-grid[k+1], sigma) + aonP_delta(price_train[:,k], strike, T-grid[k+1], sigma)) * (price_train[:, k+1] - price_train[:, k])\n",
        "\n",
        "hedge = hedge - payoff_f(price_train[:, N-1]) + priceBS"
      ],
      "metadata": {
        "id": "LNs2SQ4V80VB"
      },
      "execution_count": null,
      "outputs": []
    },
    {
      "cell_type": "code",
      "source": [
        "plt.hist(hedge)\n",
        "plt.show()\n",
        "print(np.std(hedge), np.mean(hedge))"
      ],
      "metadata": {
        "id": "l4QfNrMPBCeA"
      },
      "execution_count": null,
      "outputs": []
    },
    {
      "cell_type": "code",
      "source": [
        "plt.hist(payoff_f(price_train[:, N-1]))"
      ],
      "metadata": {
        "id": "RiPseVirNIQW"
      },
      "execution_count": null,
      "outputs": []
    },
    {
      "cell_type": "code",
      "source": [
        "Ktest=50\n",
        "\n",
        "testpath=[]\n",
        "\n",
        "for i in range(N):\n",
        "    testpath.append(np.random.normal(-(sigma)**2/2*(grid[i+1]-grid[i]), sigma*np.sqrt(grid[i+1]-grid[i]), (Ktest, u)))\n",
        "\n",
        "logincrements = testpath\n",
        "hedge = np.zeros((Ktest, N+1))\n",
        "price_test = S0*np.ones((Ktest, N+1))\n",
        "delta = np.zeros((Ktest, N+1))\n",
        "delta[:, 0] += ((1+coupon)*conC_delta(price_test[:,0], strike, T-grid[0], sigma) + aonP_delta(price_test[:,0], strike, T-grid[0], sigma))\n",
        "for k in range(N):\n",
        "    helper = logincrements[k].reshape((-1,))\n",
        "    price_test[:, k+1] = price_test[:, k]*np.exp(helper)\n",
        "    delta[:, k+1] += ((1+coupon)*conC_delta(price_test[:,k], strike, T-grid[k+1], sigma) + aonP_delta(price_test[:,k], strike, T-grid[k+1], sigma))\n",
        "    hedge[:, k+1] = hedge[:, k] + delta[:, k+1] * (price_test[:, k+1] - price_test[:, k])\n",
        "\n",
        "hedge[:, -1] = hedge[:, -2] - payoff_f(price_test[:, -1]) + priceBS"
      ],
      "metadata": {
        "id": "Z33WRtPtBLFG"
      },
      "execution_count": null,
      "outputs": []
    },
    {
      "cell_type": "code",
      "source": [
        "for i in range(Ktest):\n",
        "    plt.plot(grid[:], price_test[i])"
      ],
      "metadata": {
        "id": "htUmHah8Dwh9"
      },
      "execution_count": null,
      "outputs": []
    },
    {
      "cell_type": "code",
      "source": [
        "for i in range(Ktest):\n",
        "    plt.plot(grid[:], delta[i])\n"
      ],
      "metadata": {
        "id": "vZJ1G3HXlhvr"
      },
      "execution_count": null,
      "outputs": []
    },
    {
      "cell_type": "code",
      "source": [
        "for i in range(Ktest):\n",
        "    plt.plot(grid, hedge[i])"
      ],
      "metadata": {
        "id": "EQS3iPr7EJWX"
      },
      "execution_count": null,
      "outputs": []
    },
    {
      "cell_type": "code",
      "source": [
        "plt.hist(hedge[:,-1])\n",
        "plt.show()\n",
        "print(np.std(hedge[:, -1]), np.mean(hedge[:, -1]))"
      ],
      "metadata": {
        "id": "kquLHKo4EYc1"
      },
      "execution_count": null,
      "outputs": []
    },
    {
      "cell_type": "code",
      "source": [
        "xtest = ([initialprice*np.ones((Ktest, u))] + \n",
        "         [np.zeros((Ktest, m))] + \n",
        "         [np.linspace(0.1, 1.5, Ktest)] +\n",
        "         [priceBS*np.ones((Ktest, m))] + \n",
        "         [testpath[i] for i in range(N)])\n",
        "\n",
        "y = model_hedge_strat.predict(xtest)\n",
        "\n",
        "\n",
        "model_hedge = y[:, 0]\n",
        "model_premium = y[:, -1]\n",
        "fig1, ax1 = plt.subplots(1, 1, squeeze=False)\n",
        "\n",
        "for k in range(Ktest):\n",
        "    ax1[0,0].plot(grid[1:], y[k][1:-1])\n",
        "    "
      ],
      "metadata": {
        "id": "glCpU9M-EjRk"
      },
      "execution_count": null,
      "outputs": []
    },
    {
      "cell_type": "code",
      "source": [
        "plt.hist(model_hedge)\n",
        "plt.show()\n",
        "print(np.std(model_hedge), np.mean(model_hedge))"
      ],
      "metadata": {
        "id": "DGhwGvbNbc7D"
      },
      "execution_count": null,
      "outputs": []
    },
    {
      "cell_type": "code",
      "source": [
        "s = np.linspace(0.1, 1.5, Ktest)\n",
        "\n",
        "for i in range(N):\n",
        "    plt.plot(s, y[:, i+1])\n",
        "    "
      ],
      "metadata": {
        "id": "kamXMNSaFWax"
      },
      "execution_count": null,
      "outputs": []
    },
    {
      "cell_type": "code",
      "source": [
        "for i in range(N):\n",
        "    BSdelta = BS_delta(s, T/(i+1))\n",
        "    plt.plot(s, BSdelta)"
      ],
      "metadata": {
        "id": "vHjvagpqcnBU"
      },
      "execution_count": null,
      "outputs": []
    },
    {
      "cell_type": "code",
      "source": [
        "def model_delta(model, s):\n",
        "    n = len(s)\n",
        "    x = ([initialprice*np.ones((n, u))] + \n",
        "         [np.zeros((n, m))] + \n",
        "         [s] +\n",
        "         [priceBS*np.ones((n, m))] + \n",
        "         [np.ones((n, u)) for i in range(N)])\n",
        "    out = model.predict(x)[1:-1]\n",
        "    return out\n",
        "\n",
        "hedge = np.zeros((Ktest, N+1))\n",
        "price_test = S0*np.ones((Ktest, N))\n",
        "\n",
        "for k in range(N-1):\n",
        "    helper = logincrements[k].reshape((-1,))\n",
        "    price_test[:, k+1] = price_test[:, k]*np.exp(helper)\n",
        "    modelta = model_delta(model_hedge_strat, price_test[:, k])\n",
        "    hedge[:, k+1] = hedge[:, k] +  modelta[k+1] * (price_test[:, k+1] - price_test[:, k])\n",
        "\n",
        "hedge[:, -1] = hedge[:, -2] - payoff_f(price_test[:, N-1]) + priceBS"
      ],
      "metadata": {
        "id": "ak1ev5CILjZ0"
      },
      "execution_count": null,
      "outputs": []
    },
    {
      "cell_type": "code",
      "source": [
        "for i in range(Ktest):\n",
        "    plt.plot(grid, hedge[i])"
      ],
      "metadata": {
        "id": "L7UTLLBmLmbl"
      },
      "execution_count": null,
      "outputs": []
    },
    {
      "cell_type": "code",
      "source": [
        "plt.hist(hedge[-1])\n",
        "plt.show()\n",
        "print(np.std(hedge[-1]), np.mean(hedge[-1]))"
      ],
      "metadata": {
        "id": "0y4zRQV1MKqf"
      },
      "execution_count": null,
      "outputs": []
    },
    {
      "cell_type": "code",
      "source": [],
      "metadata": {
        "id": "XZf4mddtMa-G"
      },
      "execution_count": null,
      "outputs": []
    }
  ],
  "metadata": {
    "colab": {
      "name": "get_started.ipynb",
      "toc_visible": true,
      "provenance": []
    },
    "kernelspec": {
      "display_name": "Python 3",
      "name": "python3"
    },
    "accelerator": "GPU",
    "gpuClass": "standard"
  },
  "nbformat": 4,
  "nbformat_minor": 0
}