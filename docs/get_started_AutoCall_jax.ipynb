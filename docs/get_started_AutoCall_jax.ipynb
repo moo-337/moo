{
  "cells": [
    {
      "cell_type": "markdown",
      "metadata": {
        "id": "view-in-github",
        "colab_type": "text"
      },
      "source": [
        "<a href=\"https://colab.research.google.com/github/moo-337/moo/blob/master/docs/get_started_AutoCall_jax.ipynb\" target=\"_parent\"><img src=\"https://colab.research.google.com/assets/colab-badge.svg\" alt=\"Open In Colab\"/></a>"
      ]
    },
    {
      "cell_type": "code",
      "source": [
        "import numpy as np\n",
        "import matplotlib.pyplot as plt\n",
        "from collections import namedtuple"
      ],
      "metadata": {
        "id": "WGL6qohhfAvP"
      },
      "execution_count": 1,
      "outputs": []
    },
    {
      "cell_type": "code",
      "source": [
        "mu, sig, beta, n, K = 4, 0.25, 0.99, 10, 40 "
      ],
      "metadata": {
        "id": "oNcmn00mfAr5"
      },
      "execution_count": 2,
      "outputs": []
    },
    {
      "cell_type": "code",
      "source": [
        "from scipy.stats import lognorm\n",
        "\n",
        "def f(x):\n",
        "    return lognorm.pdf(x, sig, scale=np.exp(mu))\n",
        "\n",
        "def g(x):\n",
        "    return np.maximum(x - K, 0) * f(x)\n",
        "\n",
        "x_grid = np.linspace(0, 400, 1_000)\n",
        "y_grid = g(x_grid)\n",
        "\n",
        "fig, ax = plt.subplots()\n",
        "ax.plot(x_grid, y_grid, label=\"$g$\")\n",
        "ax.legend()\n",
        "plt.show()\n"
      ],
      "metadata": {
        "id": "Q2GoKSmefAo_",
        "outputId": "277b8a1c-7b6b-46fd-dfe9-e0b1256acfb0",
        "colab": {
          "base_uri": "https://localhost:8080/",
          "height": 265
        }
      },
      "execution_count": 3,
      "outputs": [
        {
          "output_type": "display_data",
          "data": {
            "text/plain": [
              "<Figure size 432x288 with 1 Axes>"
            ],
            "image/png": "[encoded data removed]"
          },
          "metadata": {
            "needs_background": "light"
          }
        }
      ]
    },
    {
      "cell_type": "code",
      "source": [
        "from scipy.integrate import quad\n",
        "\n",
        "integral, error = quad(g, 0, 1_000)\n",
        "P = beta**n * integral\n",
        "print(f\"The numerical integration based option price is {P:.3f}\")"
      ],
      "metadata": {
        "id": "bALoxeWnfAmN",
        "outputId": "d412c9f0-c015-41ad-fada-21363d82e166",
        "colab": {
          "base_uri": "https://localhost:8080/"
        }
      },
      "execution_count": 4,
      "outputs": [
        {
          "output_type": "stream",
          "name": "stdout",
          "text": [
            "The numerical integration based option price is 15.188\n"
          ]
        }
      ]
    },
    {
      "cell_type": "code",
      "source": [
        "M = 10_000_000\n",
        "S = np.exp(mu + sig * np.random.randn(M))\n",
        "payoffs = np.maximum(S - K, 0)\n",
        "P = beta ** n * payoffs.mean()\n",
        "print(f\"The Monte Carlo option price is {P:.3f}\")"
      ],
      "metadata": {
        "id": "w8yyj9tHfAjJ",
        "outputId": "9f393e65-09c4-486f-c48c-5617a441ccd1",
        "colab": {
          "base_uri": "https://localhost:8080/"
        }
      },
      "execution_count": 5,
      "outputs": [
        {
          "output_type": "stream",
          "name": "stdout",
          "text": [
            "The Monte Carlo option price is 15.183\n"
          ]
        }
      ]
    },
    {
      "cell_type": "code",
      "source": [
        "Model = namedtuple(\"Model\", (\"beta\", \"mu\", \"K\", \"cpn\", \"B\", \"n\", \"rho\", \"v\", \"S0\", \"h0\"))"
      ],
      "metadata": {
        "id": "JEVjqePDfAgA"
      },
      "execution_count": 6,
      "outputs": []
    },
    {
      "cell_type": "code",
      "source": [
        "def create_model_autocall(beta=.99999, \n",
        "                 mu=-0.0001,\n",
        "                 K=[0.9, 0.9, 0.85, 0.85, 0.8, 0.8],\n",
        "                 cpn=[0.005, 0.01, 0.015, 0.02, 0.025, 0.03],\n",
        "                 B=0.5,\n",
        "                 n=1000,\n",
        "                 rho=0.1,\n",
        "                 v=0.01,\n",
        "                 S0=1,\n",
        "                 h0=0):\n",
        "    return Model(beta=beta, mu=mu, K=K, cpn=cpn, B=B, n=n, rho=rho, v=v, S0=S0, h0=h0)"
      ],
      "metadata": {
        "id": "C0fza8nBfAdA"
      },
      "execution_count": 7,
      "outputs": []
    },
    {
      "cell_type": "code",
      "source": [
        "default_model = create_model_autocall()\n",
        "     "
      ],
      "metadata": {
        "id": "yahl3_0_fAId"
      },
      "execution_count": 8,
      "outputs": []
    },
    {
      "cell_type": "code",
      "source": [
        "from numpy.random import randn\n",
        "\n",
        "def simulate_asset_price_path(model):\n",
        "\n",
        "    beta, mu, K, cpn, B, n, rho, v, S0, h0 = model\n",
        "    s = np.empty(n+1)\n",
        "    s[0] = np.log(S0)\n",
        "\n",
        "    h = h0\n",
        "    for t in range(n):\n",
        "        h = rho * h + v * randn()\n",
        "        s[t+1] = s[t] + mu + h * randn()\n",
        "        \n",
        "    return np.exp(s)"
      ],
      "metadata": {
        "id": "xTeXc6YGl34a"
      },
      "execution_count": 9,
      "outputs": []
    },
    {
      "cell_type": "code",
      "source": [
        "fig, axes = plt.subplots(2, 1)\n",
        "\n",
        "titles = 'log paths', 'paths'\n",
        "transforms = np.log, lambda x: x\n",
        "for ax, transform, title in zip(axes, transforms, titles):\n",
        "    for i in range(50):\n",
        "        path = simulate_asset_price_path(default_model)\n",
        "        ax.plot(transform(path), 'b-', alpha=0.5)\n",
        "    ax.set_title(title)\n",
        "\n",
        "fig.tight_layout()\n",
        "plt.show()\n"
      ],
      "metadata": {
        "colab": {
          "base_uri": "https://localhost:8080/",
          "height": 297
        },
        "id": "rrazfqcBm5rX",
        "outputId": "5f3701b2-f6db-43fe-895b-113e061f6e62"
      },
      "execution_count": 10,
      "outputs": [
        {
          "output_type": "display_data",
          "data": {
            "text/plain": [
              "<Figure size 432x288 with 2 Axes>"
            ],
            "image/png": "[encoded data removed]"
          },
          "metadata": {
            "needs_background": "light"
          }
        }
      ]
    },
    {
      "cell_type": "code",
      "source": [
        "from numba import njit\n",
        "# pip install --upgrade numda\n",
        "default_M = 1_000_000"
      ],
      "metadata": {
        "id": "QICfQ_wtngPP"
      },
      "execution_count": 11,
      "outputs": []
    },
    {
      "cell_type": "code",
      "source": [
        "@njit\n",
        "def compute_Autocall_price(model, M=default_M):\n",
        "\n",
        "    beta, mu, K, cpn, B, n, rho, v, S0, h0 = model\n",
        "    current_sum = 0.0\n",
        "\n",
        "    early_call_n = len(K)\n",
        "    early_call_idx = [(i+1)*(n//early_call_n) for i in range(early_call_n-1)]\n",
        "    rnd_cnt = 0\n",
        "    early_call_cnt = 0\n",
        "    loss_cnt = 0\n",
        "    for m in range(M):\n",
        "        s = np.log(S0)\n",
        "        h = h0\n",
        "        early_date_cnt = 0\n",
        "        barrier_flag = False\n",
        "        early_call_flag = False\n",
        "        for t in range(n):\n",
        "            h = rho * h + v * randn()\n",
        "            s = s + mu + h * randn()\n",
        "            rnd_cnt += 1\n",
        "            exp_s = np.exp(s)\n",
        "\n",
        "            if t == early_call_idx[early_date_cnt]:\n",
        "                if exp_s < S0*K[early_date_cnt]:\n",
        "                    if early_call_n-2 != early_date_cnt:\n",
        "                        early_date_cnt +=1\n",
        "                    continue\n",
        "                if exp_s >= S0*K[early_date_cnt]:\n",
        "                    early_call_flag = True\n",
        "                    early_call_cnt += 1\n",
        "                    current_sum += beta**t * (1 + cpn[early_date_cnt])\n",
        "                    break\n",
        "            if exp_s <= S0*B:\n",
        "                barrier_flag = True\n",
        "        \n",
        "        if not barrier_flag and not early_call_flag:\n",
        "            current_sum += beta**n * (1 + cpn[-1])\n",
        "        \n",
        "        if barrier_flag and not early_call_flag:\n",
        "            if exp_s >= S0*K[-1]:\n",
        "                current_sum += beta**n * (1 + cpn[-1])\n",
        "            if exp_s < S0*K[-1]:                \n",
        "                current_sum += beta**n * exp_s / S0\n",
        "                loss_cnt += 1\n",
        "\n",
        "    return current_sum / M, rnd_cnt, early_call_cnt, loss_cnt"
      ],
      "metadata": {
        "id": "eKjZmLuzreqH"
      },
      "execution_count": 12,
      "outputs": []
    },
    {
      "cell_type": "code",
      "source": [
        "%%time\n",
        "compute_Autocall_price(default_model)"
      ],
      "metadata": {
        "colab": {
          "base_uri": "https://localhost:8080/"
        },
        "id": "D0zfgpxUsWWL",
        "outputId": "f2b51412-ca37-4e3e-b20d-bd2757706cd4"
      },
      "execution_count": 13,
      "outputs": [
        {
          "output_type": "stream",
          "name": "stdout",
          "text": [
            "CPU times: user 38.4 s, sys: 278 ms, total: 38.7 s\n",
            "Wall time: 49.6 s\n"
          ]
        },
        {
          "output_type": "execute_result",
          "data": {
            "text/plain": [
              "(0.989924385890308, 297620531, 900031, 29801)"
            ]
          },
          "metadata": {},
          "execution_count": 13
        }
      ]
    },
    {
      "cell_type": "code",
      "source": [
        "%%time\n",
        "compute_Autocall_price(default_model)"
      ],
      "metadata": {
        "colab": {
          "base_uri": "https://localhost:8080/"
        },
        "id": "d55lfAK1scG5",
        "outputId": "3d8c8963-fdc3-4fd5-f155-ea5328187b1c"
      },
      "execution_count": 14,
      "outputs": [
        {
          "output_type": "stream",
          "name": "stdout",
          "text": [
            "CPU times: user 32.8 s, sys: 115 ms, total: 32.9 s\n",
            "Wall time: 32.9 s\n"
          ]
        },
        {
          "output_type": "execute_result",
          "data": {
            "text/plain": [
              "(0.9900300577057808, 297815783, 900019, 29610)"
            ]
          },
          "metadata": {},
          "execution_count": 14
        }
      ]
    },
    {
      "cell_type": "code",
      "source": [
        "from numba import prange"
      ],
      "metadata": {
        "id": "aE3T95lbtfow"
      },
      "execution_count": 15,
      "outputs": []
    },
    {
      "cell_type": "code",
      "source": [
        "@njit(parallel=True)\n",
        "def compute_Autocall_price_parallel(model, M=default_M):\n",
        "\n",
        "    beta, mu, K, cpn, B, n, rho, v, S0, h0 = model\n",
        "    current_sum = 0.0\n",
        "\n",
        "    early_call_n = len(K)\n",
        "    early_call_idx = [(i+1)*(n//early_call_n) for i in range(early_call_n-1)]\n",
        "    rnd_cnt = 0\n",
        "    early_call_cnt = 0\n",
        "    loss_cnt = 0\n",
        "    for m in prange(M):\n",
        "        s = np.log(S0)\n",
        "        h = h0\n",
        "        early_date_cnt = 0\n",
        "        barrier_flag = False\n",
        "        early_call_flag = False\n",
        "        for t in range(n):\n",
        "            h = rho * h + v * randn()\n",
        "            s = s + mu + h * randn()\n",
        "            rnd_cnt += 1\n",
        "            exp_s = np.exp(s)\n",
        "\n",
        "            if t == early_call_idx[early_date_cnt]:\n",
        "                if exp_s < S0*K[early_date_cnt]:\n",
        "                    if early_call_n-2 != early_date_cnt:\n",
        "                        early_date_cnt +=1\n",
        "                    continue\n",
        "                if exp_s >= S0*K[early_date_cnt]:\n",
        "                    early_call_flag = True\n",
        "                    early_call_cnt += 1\n",
        "                    current_sum += beta**t * (1 + cpn[early_date_cnt])\n",
        "                    break\n",
        "            if exp_s <= S0*B:\n",
        "                barrier_flag = True\n",
        "        \n",
        "        if not barrier_flag and not early_call_flag:\n",
        "            current_sum += beta**n * (1 + cpn[-1])\n",
        "        \n",
        "        if barrier_flag and not early_call_flag:\n",
        "            if exp_s >= S0*K[-1]:\n",
        "                current_sum += beta**n * (1 + cpn[-1])\n",
        "            if exp_s < S0*K[-1]:                \n",
        "                current_sum += beta**n * exp_s / S0\n",
        "                loss_cnt += 1\n",
        "\n",
        "    return current_sum / M, rnd_cnt, early_call_cnt, loss_cnt"
      ],
      "metadata": {
        "id": "zsUW-BkUtsRO"
      },
      "execution_count": 16,
      "outputs": []
    },
    {
      "cell_type": "code",
      "source": [
        "%%time\n",
        "compute_Autocall_price_parallel(default_model)"
      ],
      "metadata": {
        "colab": {
          "base_uri": "https://localhost:8080/"
        },
        "id": "qINxViNluN18",
        "outputId": "6f24db3f-3ca4-40d7-e7b5-d366c6ca5d7b"
      },
      "execution_count": 17,
      "outputs": [
        {
          "output_type": "stream",
          "name": "stderr",
          "text": [
            "/usr/local/lib/python3.9/dist-packages/numba/core/ir_utils.py:2147: NumbaPendingDeprecationWarning: \n",
            "Encountered the use of a type that is scheduled for deprecation: type 'reflected list' found for argument '_K_11' of function '__numba_parfor_gufunc_0x7effd66b6af0'.\n",
            "\n",
            "For more information visit https://numba.readthedocs.io/en/stable/reference/deprecation.html#deprecation-of-reflection-for-list-and-set-types\n",
            "\n",
            "File \"<string>\", line 1:\n",
            "<source missing, REPL/exec in use?>\n",
            "\n",
            "  warnings.warn(NumbaPendingDeprecationWarning(msg, loc=loc))\n",
            "/usr/local/lib/python3.9/dist-packages/numba/core/ir_utils.py:2147: NumbaPendingDeprecationWarning: \n",
            "Encountered the use of a type that is scheduled for deprecation: type 'reflected list' found for argument '_cpn_12' of function '__numba_parfor_gufunc_0x7effd66b6af0'.\n",
            "\n",
            "For more information visit https://numba.readthedocs.io/en/stable/reference/deprecation.html#deprecation-of-reflection-for-list-and-set-types\n",
            "\n",
            "File \"<string>\", line 1:\n",
            "<source missing, REPL/exec in use?>\n",
            "\n",
            "  warnings.warn(NumbaPendingDeprecationWarning(msg, loc=loc))\n"
          ]
        },
        {
          "output_type": "stream",
          "name": "stdout",
          "text": [
            "CPU times: user 39.4 s, sys: 55.8 ms, total: 39.5 s\n",
            "Wall time: 25 s\n"
          ]
        },
        {
          "output_type": "execute_result",
          "data": {
            "text/plain": [
              "(0.9901306448204226, 297787932, 899896, 29420)"
            ]
          },
          "metadata": {},
          "execution_count": 17
        }
      ]
    },
    {
      "cell_type": "code",
      "source": [
        "%%time\n",
        "compute_Autocall_price_parallel(default_model)"
      ],
      "metadata": {
        "colab": {
          "base_uri": "https://localhost:8080/"
        },
        "id": "YQ3AEAaKuQo5",
        "outputId": "07a965af-78bd-4c2f-b461-bb88aaa60694"
      },
      "execution_count": 18,
      "outputs": [
        {
          "output_type": "stream",
          "name": "stdout",
          "text": [
            "CPU times: user 35.6 s, sys: 26.8 ms, total: 35.6 s\n",
            "Wall time: 21.4 s\n"
          ]
        },
        {
          "output_type": "execute_result",
          "data": {
            "text/plain": [
              "(0.9900774402558803, 297735757, 900079, 29521)"
            ]
          },
          "metadata": {},
          "execution_count": 18
        }
      ]
    },
    {
      "cell_type": "code",
      "source": [
        "!find / -iname 'libdevice'\n",
        "!find / -iname 'libnvvm.so'"
      ],
      "metadata": {
        "colab": {
          "base_uri": "https://localhost:8080/"
        },
        "id": "Tj4yARCYugON",
        "outputId": "a26eed60-4d3a-41af-f290-f7388f1a07ed"
      },
      "execution_count": 19,
      "outputs": [
        {
          "output_type": "stream",
          "name": "stdout",
          "text": [
            "/usr/local/lib/python3.9/dist-packages/jaxlib/cuda/nvvm/libdevice\n",
            "/usr/local/cuda-11.8/nvvm/libdevice\n",
            "find: ‘/proc/60/task/60/net’: Invalid argument\n",
            "find: ‘/proc/60/net’: Invalid argument\n",
            "/usr/local/cuda-11.8/nvvm/lib64/libnvvm.so\n",
            "find: ‘/proc/60/task/60/net’: Invalid argument\n",
            "find: ‘/proc/60/net’: Invalid argument\n",
            "find: ‘/proc/1039’: No such file or directory\n"
          ]
        }
      ]
    },
    {
      "cell_type": "code",
      "source": [
        "from math import log, exp\n",
        "from numba import cuda, objmode, float32, int32\n",
        "from numba.cuda.random import xoroshiro128p_normal_float32 as xnf32\n",
        "from numba.cuda.random import create_xoroshiro128p_states as x128_states"
      ],
      "metadata": {
        "id": "kgfceWdquwCb"
      },
      "execution_count": 20,
      "outputs": []
    },
    {
      "cell_type": "code",
      "source": [
        "def convert_to_32_bit(scalar):\n",
        "    if isinstance(scalar, float):\n",
        "        return float32(scalar)\n",
        "    return(int32(scalar))"
      ],
      "metadata": {
        "id": "B1JLXDuTvjBL"
      },
      "execution_count": 21,
      "outputs": []
    },
    {
      "cell_type": "code",
      "source": [
        "@cuda.jit(device=True)\n",
        "def update_price(params, s, h, zeta_1, zeta_2):\n",
        "    beta, mu, K, n, rho, v = params\n",
        "    h = rho * h + v * zeta_2\n",
        "    s = s + mu + h * zeta_1\n",
        "    return s, h"
      ],
      "metadata": {
        "id": "0gmOO_WhvwJp"
      },
      "execution_count": 22,
      "outputs": []
    },
    {
      "cell_type": "code",
      "source": [
        "@cuda.jit\n",
        "def price_generation_kernel(model, init_vals, price_sample, rng_states):\n",
        "\n",
        "    pos = cuda.grid(1)\n",
        "    beta, mu, K, cpn, B, n, rho, v, S0, h0 = model\n",
        "    params = tuple(map(convert_to_32_bit, (beta, mu, K, n, rho, v)))\n",
        "    S0, h0 = init_vals\n",
        "\n",
        "    s, h = log(S0), h0\n",
        "\n",
        "    early_call_n = len(K)\n",
        "    early_call_idx = [(i+1)*(n//early_call_n) for i in range(early_call_n-1)]\n",
        "    early_call_cnt = 0\n",
        "    for t in range(n):\n",
        "\n",
        "        zeta_1 = xnf32(rng_states, pos)\n",
        "        zeta_2 = xnf32(rng_states, pos)\n",
        "        s, h = update_price(params, s, h, zeta_1, zeta_2)\n",
        "        if t == early_call_idx[early_call_cnt]:\n",
        "\n",
        "            price_sample[pos] = exp(s)"
      ],
      "metadata": {
        "id": "ajVioePHwE1G"
      },
      "execution_count": 23,
      "outputs": []
    },
    {
      "cell_type": "code",
      "source": [
        "def compute_Autocall_price_cuda(model,\n",
        "                            M=default_M,\n",
        "                            seed=1234,\n",
        "                            threads_per_block=132):\n",
        "    \n",
        "    nthreads = threads_per_block\n",
        "    nblocks = M // nthreads\n",
        "    beta, mu, K, cpn, B, n, rho, v, S0, h0 = model\n",
        "    params = tuple(map(convert_to_32_bit, (beta, mu, K, n, rho, v)))\n",
        "    init_vals = tuple(map(convert_to_32_bit, (S0, h0)))\n",
        "\n",
        "    rng_states = x128_states(M, seed=seed)\n",
        "\n",
        "    price_sample = cuda.to_device(np.zeros(M))\n",
        "\n",
        "    price_generation_kernel[nblocks, nthreads](\n",
        "        params, init_vals, price_sample, rng_states\n",
        "    )\n",
        "\n",
        "    price_sample = price_sample.copy_to_host()\n",
        "    payoffs = np.maximum(price_sample - K, 0)\n",
        "    return beta**n * np.mean(payoffs)"
      ],
      "metadata": {
        "id": "kag0hB7HwuWW"
      },
      "execution_count": 24,
      "outputs": []
    },
    {
      "cell_type": "code",
      "source": [
        "# %%time\n",
        "# compute_Autocall_price_cuda(default_model)"
      ],
      "metadata": {
        "id": "SH94FX2nxoWd"
      },
      "execution_count": 25,
      "outputs": []
    },
    {
      "cell_type": "code",
      "source": [
        "# %%time\n",
        "# compute_Autocall_price_cuda(default_model)"
      ],
      "metadata": {
        "id": "w0wrJVmpyxBg"
      },
      "execution_count": 26,
      "outputs": []
    },
    {
      "cell_type": "code",
      "source": [
        "import jax\n",
        "import jax.numpy as jnp"
      ],
      "metadata": {
        "id": "LGKnvbQGz3eU"
      },
      "execution_count": 27,
      "outputs": []
    },
    {
      "cell_type": "code",
      "source": [
        "def compute_Autocall_price_jax(model=default_model, \n",
        "                           M=default_M,\n",
        "                           key=jax.random.PRNGKey(1)):\n",
        "    \n",
        "    beta, mu, K, cpn, B, n, rho, v, S0, h0 = model\n",
        "    \n",
        "    early_call_n = len(K)\n",
        "    early_call_idx = [(i+1)*(n//early_call_n) for i in range(early_call_n-1)]\n",
        "    early_call_cnt = 0\n",
        "    \n",
        "    s = jnp.full(M, jnp.log(S0))\n",
        "    h = jnp.full(M, h0)\n",
        "    uncalled_idx = jnp.full(M, 1)\n",
        "    barrier_idx = jnp.full(M, 1)\n",
        "    expectation = 0 \n",
        "    for t in range(n):\n",
        "        key, subkey = jax.random.split(key)\n",
        "        Z = jax.random.normal(subkey, (2, M))\n",
        "        \n",
        "        h = rho * h + v * Z[1, :]\n",
        "        s = s + mu + h * Z[0, :]\n",
        "        observe_s = jnp.exp(s)\n",
        "        barrier_idx *= jnp.maximum(jnp.sign(observe_s - B*(S0+1e-10)), 0)\n",
        "\n",
        "        if t == early_call_idx[early_call_cnt]:\n",
        "            observe_s *= uncalled_idx\n",
        "            called_idx = jnp.maximum(jnp.sign(observe_s - K[early_call_cnt]*S0), 0)\n",
        "            expectation += jnp.mean(called_idx) * beta**t * (1 + cpn[early_call_cnt])\n",
        "            uncalled_idx -= called_idx\n",
        "            if early_call_n-2 != early_call_cnt:\n",
        "                early_call_cnt += 1\n",
        "\n",
        "    expectation += jnp.mean(uncalled_idx * barrier_idx) * beta**n * (1 + cpn[-1])\n",
        "    \n",
        "    uncalled_idx = uncalled_idx - uncalled_idx * barrier_idx\n",
        "\n",
        "    expectation += jnp.mean(uncalled_idx * observe_s / S0) * beta**n\n",
        "\n",
        "    return expectation"
      ],
      "metadata": {
        "id": "Ea1WqJjXz_qs",
        "colab": {
          "base_uri": "https://localhost:8080/"
        },
        "outputId": "3a77cb9c-1590-4e41-ce00-a85ed63103f9"
      },
      "execution_count": 28,
      "outputs": [
        {
          "output_type": "stream",
          "name": "stderr",
          "text": [
            "WARNING:jax._src.lib.xla_bridge:No GPU/TPU found, falling back to CPU. (Set TF_CPP_MIN_LOG_LEVEL=0 and rerun for more info.)\n"
          ]
        }
      ]
    },
    {
      "cell_type": "code",
      "source": [
        "%%time\n",
        "compute_Autocall_price_jax().block_until_ready()"
      ],
      "metadata": {
        "id": "8REGhkOU0zCZ",
        "outputId": "332c5924-8e9e-475a-e5e7-ed674d4b853b",
        "colab": {
          "base_uri": "https://localhost:8080/"
        }
      },
      "execution_count": 29,
      "outputs": [
        {
          "output_type": "stream",
          "name": "stdout",
          "text": [
            "CPU times: user 54.1 s, sys: 3.49 s, total: 57.6 s\n",
            "Wall time: 38.4 s\n"
          ]
        },
        {
          "output_type": "execute_result",
          "data": {
            "text/plain": [
              "Array(0.9900861, dtype=float32)"
            ]
          },
          "metadata": {},
          "execution_count": 29
        }
      ]
    },
    {
      "cell_type": "code",
      "source": [
        "%%time\n",
        "compute_Autocall_price_jax().block_until_ready()"
      ],
      "metadata": {
        "id": "aqa5NViu06NA",
        "outputId": "bca1602f-dd08-4fe9-d03f-0498ac3f4d50",
        "colab": {
          "base_uri": "https://localhost:8080/"
        }
      },
      "execution_count": 30,
      "outputs": [
        {
          "output_type": "stream",
          "name": "stdout",
          "text": [
            "CPU times: user 53.4 s, sys: 1.56 s, total: 55 s\n",
            "Wall time: 36.1 s\n"
          ]
        },
        {
          "output_type": "execute_result",
          "data": {
            "text/plain": [
              "Array(0.9900861, dtype=float32)"
            ]
          },
          "metadata": {},
          "execution_count": 30
        }
      ]
    },
    {
      "cell_type": "code",
      "source": [
        "compute_Autocall_price_jax_jit = jax.jit(compute_Autocall_price_jax)"
      ],
      "metadata": {
        "id": "IoE9TPKH1EZJ"
      },
      "execution_count": 31,
      "outputs": []
    },
    {
      "cell_type": "code",
      "source": [
        "%%time\n",
        "compute_Autocall_price_jax_jit().block_until_ready()"
      ],
      "metadata": {
        "id": "BuwOeXvE1VYE"
      },
      "execution_count": null,
      "outputs": []
    },
    {
      "cell_type": "code",
      "source": [
        "%%time\n",
        "compute_Autocall_price_jax_jit().block_until_ready()"
      ],
      "metadata": {
        "id": "6MRHympH1X-a"
      },
      "execution_count": null,
      "outputs": []
    },
    {
      "cell_type": "code",
      "source": [],
      "metadata": {
        "id": "-RLeFm1i1ad6"
      },
      "execution_count": null,
      "outputs": []
    }
  ],
  "metadata": {
    "colab": {
      "name": "get_started.ipynb",
      "toc_visible": true,
      "provenance": [],
      "include_colab_link": true
    },
    "kernelspec": {
      "display_name": "Python 3",
      "name": "python3"
    },
    "accelerator": "GPU",
    "gpuClass": "standard"
  },
  "nbformat": 4,
  "nbformat_minor": 0
}