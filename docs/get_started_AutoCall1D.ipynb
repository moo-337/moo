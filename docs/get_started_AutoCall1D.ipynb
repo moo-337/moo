{
  "cells": [
    {
      "cell_type": "markdown",
      "source": [
        "<a href=\"https://colab.research.google.com/github/moo-337/moo/blob/master/docs/get_started.ipynb\" target=\"_parent\"><img src=\"https://colab.research.google.com/assets/colab-badge.svg\" alt=\"Open In Colab\"/></a>\n"
      ],
      "metadata": {
        "id": "F6CynlLzJboi"
      }
    },
    {
      "cell_type": "code",
      "source": [
        "import numpy as np\n",
        "import matplotlib.pyplot as plt\n",
        "from collections import namedtuple"
      ],
      "metadata": {
        "id": "WGL6qohhfAvP"
      },
      "execution_count": 1,
      "outputs": []
    },
    {
      "cell_type": "code",
      "source": [
        "mu, sig, beta, n, K = 4, 0.25, 0.99, 10, 40 "
      ],
      "metadata": {
        "id": "oNcmn00mfAr5"
      },
      "execution_count": 2,
      "outputs": []
    },
    {
      "cell_type": "code",
      "source": [
        "from scipy.stats import lognorm\n",
        "\n",
        "def f(x):\n",
        "    return lognorm.pdf(x, sig, scale=np.exp(mu))\n",
        "\n",
        "def g(x):\n",
        "    return np.maximum(x - K, 0) * f(x)\n",
        "\n",
        "x_grid = np.linspace(0, 400, 1_000)\n",
        "y_grid = g(x_grid)\n",
        "\n",
        "fig, ax = plt.subplots()\n",
        "ax.plot(x_grid, y_grid, label=\"$g$\")\n",
        "ax.legend()\n",
        "plt.show()\n"
      ],
      "metadata": {
        "id": "Q2GoKSmefAo_",
        "outputId": "d295122f-50f8-4322-8ebd-7939b2b52faa",
        "colab": {
          "base_uri": "https://localhost:8080/",
          "height": 265
        }
      },
      "execution_count": 3,
      "outputs": [
        {
          "output_type": "display_data",
          "data": {
            "text/plain": [
              "<Figure size 432x288 with 1 Axes>"
            ],
            "image/png": "[encoded data removed]"
          },
          "metadata": {
            "needs_background": "light"
          }
        }
      ]
    },
    {
      "cell_type": "code",
      "source": [
        "from scipy.integrate import quad\n",
        "\n",
        "integral, error = quad(g, 0, 1_000)\n",
        "P = beta**n * integral\n",
        "print(f\"The numerical integration based option price is {P:.3f}\")"
      ],
      "metadata": {
        "id": "bALoxeWnfAmN",
        "outputId": "1d66defd-48aa-44d4-85f4-5491ff4e8218",
        "colab": {
          "base_uri": "https://localhost:8080/"
        }
      },
      "execution_count": 4,
      "outputs": [
        {
          "output_type": "stream",
          "name": "stdout",
          "text": [
            "The numerical integration based option price is 15.188\n"
          ]
        }
      ]
    },
    {
      "cell_type": "code",
      "source": [
        "M = 10_000_000\n",
        "S = np.exp(mu + sig * np.random.randn(M))\n",
        "payoffs = np.maximum(S - K, 0)\n",
        "P = beta ** n * payoffs.mean()\n",
        "print(f\"The Monte Carlo option price is {P:.3f}\")"
      ],
      "metadata": {
        "id": "w8yyj9tHfAjJ",
        "outputId": "cbcaabd3-11cd-4b6b-c8e9-19f26cb0e049",
        "colab": {
          "base_uri": "https://localhost:8080/"
        }
      },
      "execution_count": 5,
      "outputs": [
        {
          "output_type": "stream",
          "name": "stdout",
          "text": [
            "The Monte Carlo option price is 15.183\n"
          ]
        }
      ]
    },
    {
      "cell_type": "code",
      "source": [
        "Model = namedtuple(\"Model\", (\"beta\", \"mu\", \"K\", \"n\", \"rho\", \"v\", \"S0\", \"h0\"))"
      ],
      "metadata": {
        "id": "JEVjqePDfAgA"
      },
      "execution_count": 6,
      "outputs": []
    },
    {
      "cell_type": "code",
      "source": [
        "def create_model(beta=0.95, \n",
        "                 mu=0.0001,\n",
        "                 K=100,\n",
        "                 n=10,\n",
        "                 rho=0.1,\n",
        "                 v=0.001,\n",
        "                 S0=10,\n",
        "                 h0=0):\n",
        "    return Model(beta=beta, mu=mu, K=K, n=n, rho=rho, v=v, S0=S0, h0=h0)"
      ],
      "metadata": {
        "id": "C0fza8nBfAdA"
      },
      "execution_count": 7,
      "outputs": []
    },
    {
      "cell_type": "code",
      "source": [
        "default_model = create_model()"
      ],
      "metadata": {
        "id": "yahl3_0_fAId"
      },
      "execution_count": 8,
      "outputs": []
    },
    {
      "cell_type": "code",
      "source": [
        "from numpy.random import randn\n",
        "\n",
        "def simulate_asset_price_path(model):\n",
        "\n",
        "    beta, mu, K, n, rho, v, S0, h0 = model\n",
        "    s = np.empty(n+1)\n",
        "    s[0] = np.log(S0)\n",
        "\n",
        "    h = h0\n",
        "    for t in range(n):\n",
        "        s[t+1] = s[t] + mu + np.exp(h) * randn()\n",
        "        h = rho * h + v * randn()\n",
        "\n",
        "    return np.exp(s)"
      ],
      "metadata": {
        "id": "xTeXc6YGl34a"
      },
      "execution_count": 9,
      "outputs": []
    },
    {
      "cell_type": "code",
      "source": [
        "fig, axes = plt.subplots(2, 1)\n",
        "\n",
        "titles = 'log paths', 'paths'\n",
        "transforms = np.log, lambda x: x\n",
        "for ax, transform, title in zip(axes, transforms, titles):\n",
        "    for i in range(50):\n",
        "        path = simulate_asset_price_path(default_model)\n",
        "        ax.plot(transform(path), 'b-', alpha=0.5)\n",
        "    ax.set_title(title)\n",
        "\n",
        "fig.tight_layout()\n",
        "plt.show()\n"
      ],
      "metadata": {
        "colab": {
          "base_uri": "https://localhost:8080/",
          "height": 297
        },
        "id": "rrazfqcBm5rX",
        "outputId": "4b5f2a8e-b14e-494c-925d-9568a67f8f82"
      },
      "execution_count": 10,
      "outputs": [
        {
          "output_type": "display_data",
          "data": {
            "text/plain": [
              "<Figure size 432x288 with 2 Axes>"
            ],
            "image/png": "[encoded data removed]"
          },
          "metadata": {
            "needs_background": "light"
          }
        }
      ]
    },
    {
      "cell_type": "code",
      "source": [
        "from numba import njit\n",
        "# pip install --upgrade numda\n",
        "default_M = 20_000_000"
      ],
      "metadata": {
        "id": "QICfQ_wtngPP"
      },
      "execution_count": 11,
      "outputs": []
    },
    {
      "cell_type": "code",
      "source": [
        "@njit\n",
        "def compute_call_price(model, M=default_M):\n",
        "\n",
        "    beta, mu, K, n, rho, v, S0, h0 = model\n",
        "    current_sum = 0.0\n",
        "\n",
        "    for m in range(M):\n",
        "        s = np.log(S0)\n",
        "        h = h0\n",
        "\n",
        "        for t in range(n):\n",
        "            s = s + mu + np.exp(h) * randn()\n",
        "            h = rho * h + v * randn()\n",
        "\n",
        "        current_sum += np.maximum(np.exp(s) - K, 0)\n",
        "\n",
        "    return beta**n * current_sum / M"
      ],
      "metadata": {
        "id": "eKjZmLuzreqH"
      },
      "execution_count": 12,
      "outputs": []
    },
    {
      "cell_type": "code",
      "source": [
        "%%time\n",
        "compute_call_price(default_model)"
      ],
      "metadata": {
        "colab": {
          "base_uri": "https://localhost:8080/"
        },
        "id": "D0zfgpxUsWWL",
        "outputId": "c757396b-37aa-46a6-efb8-2c1e1623e828"
      },
      "execution_count": 13,
      "outputs": [
        {
          "output_type": "stream",
          "name": "stdout",
          "text": [
            "CPU times: user 24.7 s, sys: 373 ms, total: 25.1 s\n",
            "Wall time: 36 s\n"
          ]
        },
        {
          "output_type": "execute_result",
          "data": {
            "text/plain": [
              "877.8288527439717"
            ]
          },
          "metadata": {},
          "execution_count": 13
        }
      ]
    },
    {
      "cell_type": "code",
      "source": [
        "%%time\n",
        "compute_call_price(default_model)"
      ],
      "metadata": {
        "colab": {
          "base_uri": "https://localhost:8080/"
        },
        "id": "d55lfAK1scG5",
        "outputId": "5c882b43-5f39-40be-9b55-7e5e31eb0e96"
      },
      "execution_count": 14,
      "outputs": [
        {
          "output_type": "stream",
          "name": "stdout",
          "text": [
            "CPU times: user 21.7 s, sys: 108 ms, total: 21.8 s\n",
            "Wall time: 21.9 s\n"
          ]
        },
        {
          "output_type": "execute_result",
          "data": {
            "text/plain": [
              "843.4951950748496"
            ]
          },
          "metadata": {},
          "execution_count": 14
        }
      ]
    },
    {
      "cell_type": "code",
      "source": [
        "from numba import prange"
      ],
      "metadata": {
        "id": "aE3T95lbtfow"
      },
      "execution_count": 15,
      "outputs": []
    },
    {
      "cell_type": "code",
      "source": [
        "@njit(parallel=True)\n",
        "def compute_call_price_parallel(model, M=default_M):\n",
        "\n",
        "    beta, mu, K, n, rho, v, S0, h0 = model\n",
        "\n",
        "    current_sum = 0.0\n",
        "    for m in prange(M):\n",
        "        s = np.log(S0)\n",
        "        h = h0\n",
        "        for t in range(n):\n",
        "            s = s + mu + np.exp(h) * randn()\n",
        "            h = rho * h + v * randn()\n",
        "\n",
        "        current_sum += np.maximum(np.exp(s) - K, 0)\n",
        "\n",
        "    return beta**n * current_sum / M\n"
      ],
      "metadata": {
        "id": "zsUW-BkUtsRO"
      },
      "execution_count": 16,
      "outputs": []
    },
    {
      "cell_type": "code",
      "source": [
        "%%time\n",
        "compute_call_price_parallel(default_model)"
      ],
      "metadata": {
        "colab": {
          "base_uri": "https://localhost:8080/"
        },
        "id": "qINxViNluN18",
        "outputId": "31975d7a-8c8a-434a-dfda-35f068efac63"
      },
      "execution_count": 17,
      "outputs": [
        {
          "output_type": "stream",
          "name": "stdout",
          "text": [
            "CPU times: user 23.3 s, sys: 55.8 ms, total: 23.3 s\n",
            "Wall time: 15.5 s\n"
          ]
        },
        {
          "output_type": "execute_result",
          "data": {
            "text/plain": [
              "854.8547107384665"
            ]
          },
          "metadata": {},
          "execution_count": 17
        }
      ]
    },
    {
      "cell_type": "code",
      "source": [
        "%%time\n",
        "compute_call_price_parallel(default_model)"
      ],
      "metadata": {
        "colab": {
          "base_uri": "https://localhost:8080/"
        },
        "id": "YQ3AEAaKuQo5",
        "outputId": "d34c7680-6abb-45d2-b916-344fba09fc82"
      },
      "execution_count": 18,
      "outputs": [
        {
          "output_type": "stream",
          "name": "stdout",
          "text": [
            "CPU times: user 22.1 s, sys: 27.7 ms, total: 22.2 s\n",
            "Wall time: 12.9 s\n"
          ]
        },
        {
          "output_type": "execute_result",
          "data": {
            "text/plain": [
              "863.1467794130922"
            ]
          },
          "metadata": {},
          "execution_count": 18
        }
      ]
    },
    {
      "cell_type": "code",
      "source": [
        "!find / -iname 'libdevice'\n",
        "!find / -iname 'libnvvm.so'"
      ],
      "metadata": {
        "colab": {
          "base_uri": "https://localhost:8080/"
        },
        "id": "Tj4yARCYugON",
        "outputId": "321608ea-1ea5-4f07-da7b-79c26943dd6b"
      },
      "execution_count": 19,
      "outputs": [
        {
          "output_type": "stream",
          "name": "stdout",
          "text": [
            "/usr/local/lib/python3.9/dist-packages/jaxlib/cuda/nvvm/libdevice\n",
            "/usr/local/cuda-11.8/nvvm/libdevice\n",
            "find: ‘/proc/57/task/57/net’: Invalid argument\n",
            "find: ‘/proc/57/net’: Invalid argument\n",
            "/usr/local/cuda-11.8/nvvm/lib64/libnvvm.so\n",
            "find: ‘/proc/57/task/57/net’: Invalid argument\n",
            "find: ‘/proc/57/net’: Invalid argument\n"
          ]
        }
      ]
    },
    {
      "cell_type": "code",
      "source": [
        "from math import log, exp\n",
        "from numba import cuda, objmode, float32, int32\n",
        "from numba.cuda.random import xoroshiro128p_normal_float32 as xnf32\n",
        "from numba.cuda.random import create_xoroshiro128p_states as x128_states"
      ],
      "metadata": {
        "id": "kgfceWdquwCb"
      },
      "execution_count": 20,
      "outputs": []
    },
    {
      "cell_type": "code",
      "source": [
        "def convert_to_32_bit(scalar):\n",
        "    if isinstance(scalar, float):\n",
        "        return float32(scalar)\n",
        "    return(int32(scalar))"
      ],
      "metadata": {
        "id": "B1JLXDuTvjBL"
      },
      "execution_count": 21,
      "outputs": []
    },
    {
      "cell_type": "code",
      "source": [
        "@cuda.jit(device=True)\n",
        "def update_price(params, s, h, zeta_1, zeta_2):\n",
        "    beta, mu, K, n, rho, v = params\n",
        "    s = s + mu + exp(h) * zeta_1\n",
        "    h = rho * h + v * zeta_2\n",
        "    return s, h"
      ],
      "metadata": {
        "id": "0gmOO_WhvwJp"
      },
      "execution_count": 22,
      "outputs": []
    },
    {
      "cell_type": "code",
      "source": [
        "@cuda.jit\n",
        "def price_generation_kernel(params, init_vals, price_sample, rng_states):\n",
        "\n",
        "    pos = cuda.grid(1)\n",
        "    beta, mu, K, n, rho, v = params\n",
        "    S0, h0 = init_vals\n",
        "\n",
        "    s, h = log(S0), h0\n",
        "\n",
        "    for t in range(n):\n",
        "\n",
        "        zeta_1 = xnf32(rng_states, pos)\n",
        "        zeta_2 = xnf32(rng_states, pos)\n",
        "        s, h = update_price(params, s, h, zeta_1, zeta_2)\n",
        "    \n",
        "    price_sample[pos] = exp(s)\n"
      ],
      "metadata": {
        "id": "ajVioePHwE1G"
      },
      "execution_count": 26,
      "outputs": []
    },
    {
      "cell_type": "code",
      "source": [
        "def compute_call_price_cuda(model,\n",
        "                            M=default_M,\n",
        "                            seed=1234,\n",
        "                            threads_per_block=132):\n",
        "    \n",
        "    nthreads = threads_per_block\n",
        "    nblocks = M // nthreads\n",
        "    beta, mu, K, n, rho, v, S0, h0 = model\n",
        "    params = tuple(map(convert_to_32_bit, (beta, mu, K, n, rho, v)))\n",
        "    init_vals = tuple(map(convert_to_32_bit, (S0, h0)))\n",
        "\n",
        "    rng_states = x128_states(M, seed=seed)\n",
        "\n",
        "    price_sample = cuda.to_device(np.zeros(M))\n",
        "\n",
        "    price_generation_kernel[nblocks, nthreads](\n",
        "        params, init_vals, price_sample, rng_states\n",
        "    )\n",
        "\n",
        "    price_sample = price_sample.copy_to_host()\n",
        "    payoffs = np.maximum(price_sample - K, 0)\n",
        "    return beta**n * np.mean(payoffs)"
      ],
      "metadata": {
        "id": "kag0hB7HwuWW"
      },
      "execution_count": 27,
      "outputs": []
    },
    {
      "cell_type": "code",
      "source": [
        "%%time\n",
        "compute_call_price_cuda(default_model)"
      ],
      "metadata": {
        "colab": {
          "base_uri": "https://localhost:8080/"
        },
        "id": "SH94FX2nxoWd",
        "outputId": "46b80c94-beb5-4734-ee35-2a4674022060"
      },
      "execution_count": 28,
      "outputs": [
        {
          "output_type": "stream",
          "name": "stdout",
          "text": [
            "CPU times: user 7.9 s, sys: 276 ms, total: 8.17 s\n",
            "Wall time: 11.4 s\n"
          ]
        },
        {
          "output_type": "execute_result",
          "data": {
            "text/plain": [
              "849.0907210556882"
            ]
          },
          "metadata": {},
          "execution_count": 28
        }
      ]
    },
    {
      "cell_type": "code",
      "source": [
        "%%time\n",
        "compute_call_price_cuda(default_model)"
      ],
      "metadata": {
        "colab": {
          "base_uri": "https://localhost:8080/"
        },
        "id": "w0wrJVmpyxBg",
        "outputId": "6633e7d2-2768-4f8b-d824-1118b061874c"
      },
      "execution_count": 29,
      "outputs": [
        {
          "output_type": "stream",
          "name": "stdout",
          "text": [
            "CPU times: user 7.43 s, sys: 206 ms, total: 7.63 s\n",
            "Wall time: 8.44 s\n"
          ]
        },
        {
          "output_type": "execute_result",
          "data": {
            "text/plain": [
              "849.0907210556882"
            ]
          },
          "metadata": {},
          "execution_count": 29
        }
      ]
    },
    {
      "cell_type": "code",
      "source": [
        "import jax\n",
        "import jax.numpy as jnp"
      ],
      "metadata": {
        "id": "LGKnvbQGz3eU"
      },
      "execution_count": 30,
      "outputs": []
    },
    {
      "cell_type": "code",
      "source": [
        "def compute_call_price_jax(model=default_model, \n",
        "                           M=default_M,\n",
        "                           key=jax.random.PRNGKey(1)):\n",
        "    \n",
        "    beta, mu, K, n, rho, v, S0, h0 = model\n",
        "\n",
        "    s = jnp.full(M, jnp.log(S0))\n",
        "    h = jnp.full(M, h0)\n",
        "    for t in range(n):\n",
        "        key, subkey = jax.random.split(key)\n",
        "        Z = jax.random.normal(subkey, (2, M))\n",
        "        s = s + mu + jnp.exp(h) * Z[0, :]\n",
        "        h = rho * h + v * Z[1, :]\n",
        "    expectation = jnp.mean(jnp.maximum(jnp.exp(s) - K, 0))\n",
        "\n",
        "    return beta ** n * expectation"
      ],
      "metadata": {
        "id": "Ea1WqJjXz_qs"
      },
      "execution_count": 31,
      "outputs": []
    },
    {
      "cell_type": "code",
      "source": [
        "%%time\n",
        "compute_call_price_jax().block_until_ready()"
      ],
      "metadata": {
        "colab": {
          "base_uri": "https://localhost:8080/"
        },
        "id": "8REGhkOU0zCZ",
        "outputId": "bb27fbec-56ad-4481-ab5c-b97867a1ff60"
      },
      "execution_count": 32,
      "outputs": [
        {
          "output_type": "stream",
          "name": "stdout",
          "text": [
            "CPU times: user 1.47 s, sys: 175 ms, total: 1.64 s\n",
            "Wall time: 2.61 s\n"
          ]
        },
        {
          "output_type": "execute_result",
          "data": {
            "text/plain": [
              "Array(883.57184, dtype=float32)"
            ]
          },
          "metadata": {},
          "execution_count": 32
        }
      ]
    },
    {
      "cell_type": "code",
      "source": [
        "%%time\n",
        "compute_call_price_jax().block_until_ready()"
      ],
      "metadata": {
        "colab": {
          "base_uri": "https://localhost:8080/"
        },
        "id": "aqa5NViu06NA",
        "outputId": "69796055-2675-44be-c1c7-47e68414c8c5"
      },
      "execution_count": 33,
      "outputs": [
        {
          "output_type": "stream",
          "name": "stdout",
          "text": [
            "CPU times: user 61.7 ms, sys: 17.6 ms, total: 79.3 ms\n",
            "Wall time: 136 ms\n"
          ]
        },
        {
          "output_type": "execute_result",
          "data": {
            "text/plain": [
              "Array(883.57184, dtype=float32)"
            ]
          },
          "metadata": {},
          "execution_count": 33
        }
      ]
    },
    {
      "cell_type": "code",
      "source": [
        "compute_call_price_jax_jit = jax.jit(compute_call_price_jax)"
      ],
      "metadata": {
        "id": "IoE9TPKH1EZJ"
      },
      "execution_count": 34,
      "outputs": []
    },
    {
      "cell_type": "code",
      "source": [
        "%%time\n",
        "compute_call_price_jax_jit().block_until_ready()"
      ],
      "metadata": {
        "colab": {
          "base_uri": "https://localhost:8080/"
        },
        "id": "BuwOeXvE1VYE",
        "outputId": "5d13093c-7be8-4e42-d8ad-ff102b50e490"
      },
      "execution_count": 35,
      "outputs": [
        {
          "output_type": "stream",
          "name": "stdout",
          "text": [
            "CPU times: user 2.23 s, sys: 47.1 ms, total: 2.28 s\n",
            "Wall time: 6.09 s\n"
          ]
        },
        {
          "output_type": "execute_result",
          "data": {
            "text/plain": [
              "Array(883.5718, dtype=float32)"
            ]
          },
          "metadata": {},
          "execution_count": 35
        }
      ]
    },
    {
      "cell_type": "code",
      "source": [
        "%%time\n",
        "compute_call_price_jax_jit().block_until_ready()"
      ],
      "metadata": {
        "colab": {
          "base_uri": "https://localhost:8080/"
        },
        "id": "6MRHympH1X-a",
        "outputId": "21c1afd0-f807-47c8-ad29-a40f567d9e22"
      },
      "execution_count": 36,
      "outputs": [
        {
          "output_type": "stream",
          "name": "stdout",
          "text": [
            "CPU times: user 1.97 ms, sys: 0 ns, total: 1.97 ms\n",
            "Wall time: 65.4 ms\n"
          ]
        },
        {
          "output_type": "execute_result",
          "data": {
            "text/plain": [
              "Array(883.5718, dtype=float32)"
            ]
          },
          "metadata": {},
          "execution_count": 36
        }
      ]
    },
    {
      "cell_type": "code",
      "source": [],
      "metadata": {
        "id": "-RLeFm1i1ad6"
      },
      "execution_count": null,
      "outputs": []
    }
  ],
  "metadata": {
    "colab": {
      "name": "get_started.ipynb",
      "toc_visible": true,
      "provenance": []
    },
    "kernelspec": {
      "display_name": "Python 3",
      "name": "python3"
    },
    "accelerator": "GPU",
    "gpuClass": "standard"
  },
  "nbformat": 4,
  "nbformat_minor": 0
}